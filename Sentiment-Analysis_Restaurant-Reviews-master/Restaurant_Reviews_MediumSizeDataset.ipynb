{
  "nbformat": 4,
  "nbformat_minor": 0,
  "metadata": {
    "colab": {
      "name": "Restaurant Reviews_MediumSizeDataset",
      "provenance": [],
      "toc_visible": true
    },
    "kernelspec": {
      "name": "python3",
      "display_name": "Python 3"
    }
  },
  "cells": [
    {
      "cell_type": "markdown",
      "metadata": {
        "id": "4jA5jjOHd5Lh",
        "colab_type": "text"
      },
      "source": [
        "# 😀/😞 Sentiment Analysis on Restaurant Reviews using NLP"
      ]
    },
    {
      "cell_type": "markdown",
      "metadata": {
        "id": "priprPfMeOT3",
        "colab_type": "text"
      },
      "source": [
        "*This note book builds an end-to-end classification model uisng NLP, Naive Bayes.*"
      ]
    },
    {
      "cell_type": "markdown",
      "metadata": {
        "id": "MT24x1tId_zu",
        "colab_type": "text"
      },
      "source": [
        "### 1.Problem\n",
        "\n",
        "Identify whether the reviews of a restaurant made by customers are postive or negative. "
      ]
    },
    {
      "cell_type": "markdown",
      "metadata": {
        "id": "K72F6rJSgZPo",
        "colab_type": "text"
      },
      "source": [
        "### 2.Data\n",
        "The data is collected from two sources.\n",
        "  * Kaggle : Restaurant Customer Reviews - https://www.kaggle.com/vigneshwarsofficial/reviews\n",
        "  * Kaggle : Restaurant Reviews in Dhaka, Bangladesh - https://www.kaggle.com/tuxboy/restaurant-reviews-in-dhaka-bangladesh\n"
      ]
    },
    {
      "cell_type": "markdown",
      "metadata": {
        "id": "tmaurYglhLSr",
        "colab_type": "text"
      },
      "source": [
        "### 3.Evaluation\n",
        "Evaluation is done on basis of metrics like accuracy score."
      ]
    },
    {
      "cell_type": "markdown",
      "metadata": {
        "id": "55361qW6hbtL",
        "colab_type": "text"
      },
      "source": [
        "### 4.Features\n",
        "Some information about data:\n",
        "* Entire data is in text format, so its better to use NLP for developing our ML models.\n",
        "* Overall, we have 17000 reviews (combining both the datasets).\n",
        "* We have two labels(columns) namely:\n",
        "  * Review : which is the review itself.\n",
        "  * Liked : which tells whether the review is positive or negative.\n",
        "    * 1 - for positive\n",
        "    * 0 - for negative\n",
        "* Text language is english."
      ]
    },
    {
      "cell_type": "markdown",
      "metadata": {
        "id": "j80oPjBslDPv",
        "colab_type": "text"
      },
      "source": [
        "## Connect Google Drive to Google Colab"
      ]
    },
    {
      "cell_type": "code",
      "metadata": {
        "id": "GbofT8Inmn6G",
        "colab_type": "code",
        "colab": {
          "base_uri": "https://localhost:8080/",
          "height": 54
        },
        "outputId": "5ed42c4a-93ea-44fc-9dde-5c0e5a64fb2f"
      },
      "source": [
        "from google.colab import drive\n",
        "drive.mount('/content/drive/')"
      ],
      "execution_count": 50,
      "outputs": [
        {
          "output_type": "stream",
          "text": [
            "Drive already mounted at /content/drive/; to attempt to forcibly remount, call drive.mount(\"/content/drive/\", force_remount=True).\n"
          ],
          "name": "stdout"
        }
      ]
    },
    {
      "cell_type": "markdown",
      "metadata": {
        "id": "7OsUrEwnmy6E",
        "colab_type": "text"
      },
      "source": [
        "## Get your workspace ready"
      ]
    },
    {
      "cell_type": "code",
      "metadata": {
        "id": "fUEFaLJqnT7Z",
        "colab_type": "code",
        "colab": {}
      },
      "source": [
        "# Import necessary libraries\n",
        "import pandas as pd\n",
        "import numpy as np\n",
        "import nltk\n",
        "import re\n",
        "import pickle\n",
        "\n",
        "# Other imports would be imported at specific necessary cells"
      ],
      "execution_count": 261,
      "outputs": []
    },
    {
      "cell_type": "markdown",
      "metadata": {
        "id": "VKWnwLmTnih1",
        "colab_type": "text"
      },
      "source": [
        "## Data Preprocessing\n",
        "\n",
        "We will do the pre-processing in three steps:\n",
        "  * Process data in dataset 1\n",
        "  * Process data in dataset 2\n",
        "  * Combine both the datasets"
      ]
    },
    {
      "cell_type": "markdown",
      "metadata": {
        "id": "bLYnQOQvjduU",
        "colab_type": "text"
      },
      "source": [
        "Preprocessing Dataset 1"
      ]
    },
    {
      "cell_type": "code",
      "metadata": {
        "id": "j8Ws77M-n6In",
        "colab_type": "code",
        "colab": {}
      },
      "source": [
        "# Load the dataset into dataframe\n",
        "df1 = pd.read_csv(\"/content/drive/My Drive/Restaurant Reviews/reviews_1.tsv\", delimiter='\\t')"
      ],
      "execution_count": 187,
      "outputs": []
    },
    {
      "cell_type": "code",
      "metadata": {
        "id": "Lsnd7fz-wtEl",
        "colab_type": "code",
        "colab": {
          "base_uri": "https://localhost:8080/",
          "height": 204
        },
        "outputId": "2203346a-479b-4a78-ff5d-c9c980d5066a"
      },
      "source": [
        "df1.head()"
      ],
      "execution_count": 190,
      "outputs": [
        {
          "output_type": "execute_result",
          "data": {
            "text/html": [
              "<div>\n",
              "<style scoped>\n",
              "    .dataframe tbody tr th:only-of-type {\n",
              "        vertical-align: middle;\n",
              "    }\n",
              "\n",
              "    .dataframe tbody tr th {\n",
              "        vertical-align: top;\n",
              "    }\n",
              "\n",
              "    .dataframe thead th {\n",
              "        text-align: right;\n",
              "    }\n",
              "</style>\n",
              "<table border=\"1\" class=\"dataframe\">\n",
              "  <thead>\n",
              "    <tr style=\"text-align: right;\">\n",
              "      <th></th>\n",
              "      <th>Review</th>\n",
              "      <th>Liked</th>\n",
              "    </tr>\n",
              "  </thead>\n",
              "  <tbody>\n",
              "    <tr>\n",
              "      <th>0</th>\n",
              "      <td>Wow... Loved this place.</td>\n",
              "      <td>1</td>\n",
              "    </tr>\n",
              "    <tr>\n",
              "      <th>1</th>\n",
              "      <td>Crust is not good.</td>\n",
              "      <td>0</td>\n",
              "    </tr>\n",
              "    <tr>\n",
              "      <th>2</th>\n",
              "      <td>Not tasty and the texture was just nasty.</td>\n",
              "      <td>0</td>\n",
              "    </tr>\n",
              "    <tr>\n",
              "      <th>3</th>\n",
              "      <td>Stopped by during the late May bank holiday of...</td>\n",
              "      <td>1</td>\n",
              "    </tr>\n",
              "    <tr>\n",
              "      <th>4</th>\n",
              "      <td>The selection on the menu was great and so wer...</td>\n",
              "      <td>1</td>\n",
              "    </tr>\n",
              "  </tbody>\n",
              "</table>\n",
              "</div>"
            ],
            "text/plain": [
              "                                              Review  Liked\n",
              "0                           Wow... Loved this place.      1\n",
              "1                                 Crust is not good.      0\n",
              "2          Not tasty and the texture was just nasty.      0\n",
              "3  Stopped by during the late May bank holiday of...      1\n",
              "4  The selection on the menu was great and so wer...      1"
            ]
          },
          "metadata": {
            "tags": []
          },
          "execution_count": 190
        }
      ]
    },
    {
      "cell_type": "code",
      "metadata": {
        "id": "DKfcq3bmw_Fl",
        "colab_type": "code",
        "colab": {
          "base_uri": "https://localhost:8080/",
          "height": 34
        },
        "outputId": "c33315f8-7797-45d7-bb8f-5b749ff327e8"
      },
      "source": [
        "# Know the shape of the dataframe\n",
        "df1.shape"
      ],
      "execution_count": 191,
      "outputs": [
        {
          "output_type": "execute_result",
          "data": {
            "text/plain": [
              "(1000, 2)"
            ]
          },
          "metadata": {
            "tags": []
          },
          "execution_count": 191
        }
      ]
    },
    {
      "cell_type": "code",
      "metadata": {
        "id": "9Sii1cdexGNZ",
        "colab_type": "code",
        "colab": {
          "base_uri": "https://localhost:8080/",
          "height": 34
        },
        "outputId": "af9732c0-e31e-4c8b-8cd0-e1cfd171336e"
      },
      "source": [
        "# Know the columns of the dataframe\n",
        "df1.columns"
      ],
      "execution_count": 192,
      "outputs": [
        {
          "output_type": "execute_result",
          "data": {
            "text/plain": [
              "Index(['Review', 'Liked'], dtype='object')"
            ]
          },
          "metadata": {
            "tags": []
          },
          "execution_count": 192
        }
      ]
    },
    {
      "cell_type": "code",
      "metadata": {
        "id": "nIIAB3hCkRm-",
        "colab_type": "code",
        "colab": {}
      },
      "source": [
        "# Change the column names\n",
        "df1.columns = ['Review', 'Sentiment']"
      ],
      "execution_count": 193,
      "outputs": []
    },
    {
      "cell_type": "code",
      "metadata": {
        "id": "_4tcDk4HyaF9",
        "colab_type": "code",
        "colab": {
          "base_uri": "https://localhost:8080/",
          "height": 170
        },
        "outputId": "ca2c78a7-1bbc-4854-d233-a78b669371eb"
      },
      "source": [
        "# Know the data types of all columns\n",
        "df1.info()"
      ],
      "execution_count": 194,
      "outputs": [
        {
          "output_type": "stream",
          "text": [
            "<class 'pandas.core.frame.DataFrame'>\n",
            "RangeIndex: 1000 entries, 0 to 999\n",
            "Data columns (total 2 columns):\n",
            " #   Column     Non-Null Count  Dtype \n",
            "---  ------     --------------  ----- \n",
            " 0   Review     1000 non-null   object\n",
            " 1   Sentiment  1000 non-null   int64 \n",
            "dtypes: int64(1), object(1)\n",
            "memory usage: 15.8+ KB\n"
          ],
          "name": "stdout"
        }
      ]
    },
    {
      "cell_type": "markdown",
      "metadata": {
        "id": "DF_Np8h3lVs9",
        "colab_type": "text"
      },
      "source": [
        "Preprocessing Dataset 2"
      ]
    },
    {
      "cell_type": "code",
      "metadata": {
        "id": "oiMgHjxlmOmT",
        "colab_type": "code",
        "colab": {}
      },
      "source": [
        "# Load the dataset into dataframe\n",
        "df2 = pd.read_csv(\"/content/drive/My Drive/Restaurant Reviews/reviews_2.csv\")"
      ],
      "execution_count": 195,
      "outputs": []
    },
    {
      "cell_type": "code",
      "metadata": {
        "id": "9pEfYQPAnIJ9",
        "colab_type": "code",
        "colab": {
          "base_uri": "https://localhost:8080/",
          "height": 204
        },
        "outputId": "1bdfa64c-e888-44f9-9399-5074e926b70a"
      },
      "source": [
        "df2.head()"
      ],
      "execution_count": 196,
      "outputs": [
        {
          "output_type": "execute_result",
          "data": {
            "text/html": [
              "<div>\n",
              "<style scoped>\n",
              "    .dataframe tbody tr th:only-of-type {\n",
              "        vertical-align: middle;\n",
              "    }\n",
              "\n",
              "    .dataframe tbody tr th {\n",
              "        vertical-align: top;\n",
              "    }\n",
              "\n",
              "    .dataframe thead th {\n",
              "        text-align: right;\n",
              "    }\n",
              "</style>\n",
              "<table border=\"1\" class=\"dataframe\">\n",
              "  <thead>\n",
              "    <tr style=\"text-align: right;\">\n",
              "      <th></th>\n",
              "      <th>Review Text</th>\n",
              "      <th>Review</th>\n",
              "      <th>Recommends</th>\n",
              "    </tr>\n",
              "  </thead>\n",
              "  <tbody>\n",
              "    <tr>\n",
              "      <th>0</th>\n",
              "      <td>Friendly staff, good food and homely environme...</td>\n",
              "      <td>NaN</td>\n",
              "      <td>True</td>\n",
              "    </tr>\n",
              "    <tr>\n",
              "      <th>1</th>\n",
              "      <td>Well...The Food was Good___Intrerior design is...</td>\n",
              "      <td>NaN</td>\n",
              "      <td>True</td>\n",
              "    </tr>\n",
              "    <tr>\n",
              "      <th>2</th>\n",
              "      <td>The man who is foodie like me for him arabian ...</td>\n",
              "      <td>5.0</td>\n",
              "      <td>NaN</td>\n",
              "    </tr>\n",
              "    <tr>\n",
              "      <th>3</th>\n",
              "      <td>ordered pizza and they were unable to serve th...</td>\n",
              "      <td>NaN</td>\n",
              "      <td>False</td>\n",
              "    </tr>\n",
              "    <tr>\n",
              "      <th>4</th>\n",
              "      <td>This place is too much comfortable &amp; food is d...</td>\n",
              "      <td>4.0</td>\n",
              "      <td>NaN</td>\n",
              "    </tr>\n",
              "  </tbody>\n",
              "</table>\n",
              "</div>"
            ],
            "text/plain": [
              "                                         Review Text  Review Recommends\n",
              "0  Friendly staff, good food and homely environme...     NaN       True\n",
              "1  Well...The Food was Good___Intrerior design is...     NaN       True\n",
              "2  The man who is foodie like me for him arabian ...     5.0        NaN\n",
              "3  ordered pizza and they were unable to serve th...     NaN      False\n",
              "4  This place is too much comfortable & food is d...     4.0        NaN"
            ]
          },
          "metadata": {
            "tags": []
          },
          "execution_count": 196
        }
      ]
    },
    {
      "cell_type": "code",
      "metadata": {
        "id": "t8pGF89dnLsA",
        "colab_type": "code",
        "colab": {
          "base_uri": "https://localhost:8080/",
          "height": 34
        },
        "outputId": "0ea9d3f0-4d6f-42bf-f488-488304f5fda5"
      },
      "source": [
        "df2.shape"
      ],
      "execution_count": 151,
      "outputs": [
        {
          "output_type": "execute_result",
          "data": {
            "text/plain": [
              "(16597, 3)"
            ]
          },
          "metadata": {
            "tags": []
          },
          "execution_count": 151
        }
      ]
    },
    {
      "cell_type": "code",
      "metadata": {
        "id": "8qeO_boXnNif",
        "colab_type": "code",
        "colab": {
          "base_uri": "https://localhost:8080/",
          "height": 34
        },
        "outputId": "efe23190-0d54-4207-b875-7dc9b7dc5f14"
      },
      "source": [
        "df2.columns"
      ],
      "execution_count": 152,
      "outputs": [
        {
          "output_type": "execute_result",
          "data": {
            "text/plain": [
              "Index(['Review Text', 'Review', 'Recommends'], dtype='object')"
            ]
          },
          "metadata": {
            "tags": []
          },
          "execution_count": 152
        }
      ]
    },
    {
      "cell_type": "code",
      "metadata": {
        "id": "9y0VYWE7p_mw",
        "colab_type": "code",
        "colab": {
          "base_uri": "https://localhost:8080/",
          "height": 34
        },
        "outputId": "2035947b-9262-4507-dc75-ac5b48b5c762"
      },
      "source": [
        "# remove records with empty ratings\n",
        "df2.dropna(subset=['Review'], inplace=True)\n",
        "df2['Review'].isna().sum()"
      ],
      "execution_count": 197,
      "outputs": [
        {
          "output_type": "execute_result",
          "data": {
            "text/plain": [
              "0"
            ]
          },
          "metadata": {
            "tags": []
          },
          "execution_count": 197
        }
      ]
    },
    {
      "cell_type": "code",
      "metadata": {
        "id": "m1tYx7wZnPbn",
        "colab_type": "code",
        "colab": {}
      },
      "source": [
        "# Remove unnecessary columns\n",
        "df2.drop(['Recommends'], axis=1, inplace=True)"
      ],
      "execution_count": 198,
      "outputs": []
    },
    {
      "cell_type": "code",
      "metadata": {
        "id": "fIPgZcIFn3Xn",
        "colab_type": "code",
        "colab": {
          "base_uri": "https://localhost:8080/",
          "height": 359
        },
        "outputId": "17c72640-7926-4993-b985-333ae3f2399c"
      },
      "source": [
        "df2[df2['Review'] == 3].sample(10)"
      ],
      "execution_count": 199,
      "outputs": [
        {
          "output_type": "execute_result",
          "data": {
            "text/html": [
              "<div>\n",
              "<style scoped>\n",
              "    .dataframe tbody tr th:only-of-type {\n",
              "        vertical-align: middle;\n",
              "    }\n",
              "\n",
              "    .dataframe tbody tr th {\n",
              "        vertical-align: top;\n",
              "    }\n",
              "\n",
              "    .dataframe thead th {\n",
              "        text-align: right;\n",
              "    }\n",
              "</style>\n",
              "<table border=\"1\" class=\"dataframe\">\n",
              "  <thead>\n",
              "    <tr style=\"text-align: right;\">\n",
              "      <th></th>\n",
              "      <th>Review Text</th>\n",
              "      <th>Review</th>\n",
              "    </tr>\n",
              "  </thead>\n",
              "  <tbody>\n",
              "    <tr>\n",
              "      <th>14256</th>\n",
              "      <td>যশোর বিজ্ঞান প্রযুক্তিতে ভর্তি বাণিজ্য ও পরীক্...</td>\n",
              "      <td>3.0</td>\n",
              "    </tr>\n",
              "    <tr>\n",
              "      <th>8855</th>\n",
              "      <td>what r the bill payment system of star kabab? ...</td>\n",
              "      <td>3.0</td>\n",
              "    </tr>\n",
              "    <tr>\n",
              "      <th>9468</th>\n",
              "      <td>Had a dinner reservation for 3 and after readi...</td>\n",
              "      <td>3.0</td>\n",
              "    </tr>\n",
              "    <tr>\n",
              "      <th>8941</th>\n",
              "      <td>It's good, but not great though. Good environm...</td>\n",
              "      <td>3.0</td>\n",
              "    </tr>\n",
              "    <tr>\n",
              "      <th>371</th>\n",
              "      <td>Good</td>\n",
              "      <td>3.0</td>\n",
              "    </tr>\n",
              "    <tr>\n",
              "      <th>7178</th>\n",
              "      <td>Well let's put it this way. This is definitely...</td>\n",
              "      <td>3.0</td>\n",
              "    </tr>\n",
              "    <tr>\n",
              "      <th>13845</th>\n",
              "      <td>Why on Earth was Chittagong's one closed down?...</td>\n",
              "      <td>3.0</td>\n",
              "    </tr>\n",
              "    <tr>\n",
              "      <th>10344</th>\n",
              "      <td>Good food Good life</td>\n",
              "      <td>3.0</td>\n",
              "    </tr>\n",
              "    <tr>\n",
              "      <th>9137</th>\n",
              "      <td>A sacred place to put off your shoes to enjoy ...</td>\n",
              "      <td>3.0</td>\n",
              "    </tr>\n",
              "    <tr>\n",
              "      <th>14622</th>\n",
              "      <td>ওকে</td>\n",
              "      <td>3.0</td>\n",
              "    </tr>\n",
              "  </tbody>\n",
              "</table>\n",
              "</div>"
            ],
            "text/plain": [
              "                                             Review Text  Review\n",
              "14256  যশোর বিজ্ঞান প্রযুক্তিতে ভর্তি বাণিজ্য ও পরীক্...     3.0\n",
              "8855   what r the bill payment system of star kabab? ...     3.0\n",
              "9468   Had a dinner reservation for 3 and after readi...     3.0\n",
              "8941   It's good, but not great though. Good environm...     3.0\n",
              "371                                                 Good     3.0\n",
              "7178   Well let's put it this way. This is definitely...     3.0\n",
              "13845  Why on Earth was Chittagong's one closed down?...     3.0\n",
              "10344                                Good food Good life     3.0\n",
              "9137   A sacred place to put off your shoes to enjoy ...     3.0\n",
              "14622                                                ওকে     3.0"
            ]
          },
          "metadata": {
            "tags": []
          },
          "execution_count": 199
        }
      ]
    },
    {
      "cell_type": "code",
      "metadata": {
        "id": "b29o-tyen2Hq",
        "colab_type": "code",
        "colab": {}
      },
      "source": [
        "# create a function to map stars to sentiment\n",
        "# 0,1,2 stars is considered as negative review (0)\n",
        "# 3, 4,5 stars is considered as positive (1) [since most of the reviews with 3 are food from general inspection, we can consider 3 rating as positive]\n",
        "\n",
        "def map_sentiment(stars_received):\n",
        "  if stars_received <=2 :\n",
        "    return 0\n",
        "  else:\n",
        "    return 1"
      ],
      "execution_count": 200,
      "outputs": []
    },
    {
      "cell_type": "code",
      "metadata": {
        "id": "HecEYIp0pNfn",
        "colab_type": "code",
        "colab": {}
      },
      "source": [
        "# mapping stars to sentiment\n",
        "df2['Sentiment'] = [map_sentiment(x) for x in df2['Review']]"
      ],
      "execution_count": 201,
      "outputs": []
    },
    {
      "cell_type": "code",
      "metadata": {
        "id": "B5Jrn1jYpV41",
        "colab_type": "code",
        "colab": {
          "base_uri": "https://localhost:8080/",
          "height": 204
        },
        "outputId": "c133c0d9-689b-4fba-9d34-16cb78834200"
      },
      "source": [
        "df2.tail()"
      ],
      "execution_count": 202,
      "outputs": [
        {
          "output_type": "execute_result",
          "data": {
            "text/html": [
              "<div>\n",
              "<style scoped>\n",
              "    .dataframe tbody tr th:only-of-type {\n",
              "        vertical-align: middle;\n",
              "    }\n",
              "\n",
              "    .dataframe tbody tr th {\n",
              "        vertical-align: top;\n",
              "    }\n",
              "\n",
              "    .dataframe thead th {\n",
              "        text-align: right;\n",
              "    }\n",
              "</style>\n",
              "<table border=\"1\" class=\"dataframe\">\n",
              "  <thead>\n",
              "    <tr style=\"text-align: right;\">\n",
              "      <th></th>\n",
              "      <th>Review Text</th>\n",
              "      <th>Review</th>\n",
              "      <th>Sentiment</th>\n",
              "    </tr>\n",
              "  </thead>\n",
              "  <tbody>\n",
              "    <tr>\n",
              "      <th>16588</th>\n",
              "      <td>The rice they served was cool. Taste very bad ...</td>\n",
              "      <td>1.0</td>\n",
              "      <td>0</td>\n",
              "    </tr>\n",
              "    <tr>\n",
              "      <th>16590</th>\n",
              "      <td>I like their food. No matter what they never d...</td>\n",
              "      <td>4.0</td>\n",
              "      <td>1</td>\n",
              "    </tr>\n",
              "    <tr>\n",
              "      <th>16592</th>\n",
              "      <td>Firstly their ac didn't work just useless and ...</td>\n",
              "      <td>1.0</td>\n",
              "      <td>0</td>\n",
              "    </tr>\n",
              "    <tr>\n",
              "      <th>16594</th>\n",
              "      <td>Best Thai soup of the town</td>\n",
              "      <td>5.0</td>\n",
              "      <td>1</td>\n",
              "    </tr>\n",
              "    <tr>\n",
              "      <th>16596</th>\n",
              "      <td>I liked the place.the food was good and so the...</td>\n",
              "      <td>4.0</td>\n",
              "      <td>1</td>\n",
              "    </tr>\n",
              "  </tbody>\n",
              "</table>\n",
              "</div>"
            ],
            "text/plain": [
              "                                             Review Text  Review  Sentiment\n",
              "16588  The rice they served was cool. Taste very bad ...     1.0          0\n",
              "16590  I like their food. No matter what they never d...     4.0          1\n",
              "16592  Firstly their ac didn't work just useless and ...     1.0          0\n",
              "16594                         Best Thai soup of the town     5.0          1\n",
              "16596  I liked the place.the food was good and so the...     4.0          1"
            ]
          },
          "metadata": {
            "tags": []
          },
          "execution_count": 202
        }
      ]
    },
    {
      "cell_type": "code",
      "metadata": {
        "id": "eNpk4FPdsCPk",
        "colab_type": "code",
        "colab": {
          "base_uri": "https://localhost:8080/",
          "height": 68
        },
        "outputId": "8c9ab79b-1bc1-4d96-d5c7-a93c3a4c3c78"
      },
      "source": [
        "# Sentiment distribution across df\n",
        "df2['Sentiment'].value_counts()"
      ],
      "execution_count": 203,
      "outputs": [
        {
          "output_type": "execute_result",
          "data": {
            "text/plain": [
              "1    11731\n",
              "0     2947\n",
              "Name: Sentiment, dtype: int64"
            ]
          },
          "metadata": {
            "tags": []
          },
          "execution_count": 203
        }
      ]
    },
    {
      "cell_type": "code",
      "metadata": {
        "id": "C7A-cLJGrz7_",
        "colab_type": "code",
        "colab": {
          "base_uri": "https://localhost:8080/",
          "height": 313
        },
        "outputId": "9a6bde0f-a102-4179-b769-2418c1d2b3e4"
      },
      "source": [
        "# plotting the sentiment distribution across df\n",
        "\n",
        "import matplotlib.pyplot as plt\n",
        "%matplotlib inline\n",
        "plt.style.use('ggplot')\n",
        "\n",
        "data = pd.value_counts(df2['Sentiment'])\n",
        "data.plot.bar()\n",
        "plt.xlabel('Sentiments')\n",
        "plt.ylabel('Count')\n",
        "plt.title('Sentiment distribution in df')"
      ],
      "execution_count": 204,
      "outputs": [
        {
          "output_type": "execute_result",
          "data": {
            "text/plain": [
              "Text(0.5, 1.0, 'Sentiment distribution in df')"
            ]
          },
          "metadata": {
            "tags": []
          },
          "execution_count": 204
        },
        {
          "output_type": "display_data",
          "data": {
            "image/png": "[encoded data removed]",
            "text/plain": [
              "<Figure size 432x288 with 1 Axes>"
            ]
          },
          "metadata": {
            "tags": []
          }
        }
      ]
    },
    {
      "cell_type": "markdown",
      "metadata": {
        "id": "1xHyhPAYsn4m",
        "colab_type": "text"
      },
      "source": [
        "Number of rows are not equally balanced across the both sentiments. So, to skip this problem and make a balanced dataset we will take first 2900 records for each sentiment."
      ]
    },
    {
      "cell_type": "code",
      "metadata": {
        "id": "9sTOPka6sxn_",
        "colab_type": "code",
        "colab": {}
      },
      "source": [
        "# Function to create a dataframe which has equal records for all categories\n",
        "\n",
        "def create_balanced_df(full_df, number_of_records):\n",
        "  bal_df_positive = full_df[full_df['Sentiment'] == 1].head(number_of_records)\n",
        "  bal_df_negative = full_df[full_df['Sentiment'] == 0].head(number_of_records)\n",
        "  bal_df = pd.concat([bal_df_positive, bal_df_negative])\n",
        "  return bal_df"
      ],
      "execution_count": 205,
      "outputs": []
    },
    {
      "cell_type": "code",
      "metadata": {
        "id": "ezKlCdwasxb9",
        "colab_type": "code",
        "colab": {}
      },
      "source": [
        "df2_bal = create_balanced_df(df2, 2900)"
      ],
      "execution_count": 206,
      "outputs": []
    },
    {
      "cell_type": "code",
      "metadata": {
        "id": "mFuvH5TatRFL",
        "colab_type": "code",
        "colab": {
          "base_uri": "https://localhost:8080/",
          "height": 204
        },
        "outputId": "6b590605-2c1a-4e03-e37d-923a7563cc65"
      },
      "source": [
        "df2_bal.head()"
      ],
      "execution_count": 207,
      "outputs": [
        {
          "output_type": "execute_result",
          "data": {
            "text/html": [
              "<div>\n",
              "<style scoped>\n",
              "    .dataframe tbody tr th:only-of-type {\n",
              "        vertical-align: middle;\n",
              "    }\n",
              "\n",
              "    .dataframe tbody tr th {\n",
              "        vertical-align: top;\n",
              "    }\n",
              "\n",
              "    .dataframe thead th {\n",
              "        text-align: right;\n",
              "    }\n",
              "</style>\n",
              "<table border=\"1\" class=\"dataframe\">\n",
              "  <thead>\n",
              "    <tr style=\"text-align: right;\">\n",
              "      <th></th>\n",
              "      <th>Review Text</th>\n",
              "      <th>Review</th>\n",
              "      <th>Sentiment</th>\n",
              "    </tr>\n",
              "  </thead>\n",
              "  <tbody>\n",
              "    <tr>\n",
              "      <th>2</th>\n",
              "      <td>The man who is foodie like me for him arabian ...</td>\n",
              "      <td>5.0</td>\n",
              "      <td>1</td>\n",
              "    </tr>\n",
              "    <tr>\n",
              "      <th>4</th>\n",
              "      <td>This place is too much comfortable &amp; food is d...</td>\n",
              "      <td>4.0</td>\n",
              "      <td>1</td>\n",
              "    </tr>\n",
              "    <tr>\n",
              "      <th>6</th>\n",
              "      <td>I check it out like a second home of mine...fe...</td>\n",
              "      <td>3.0</td>\n",
              "      <td>1</td>\n",
              "    </tr>\n",
              "    <tr>\n",
              "      <th>8</th>\n",
              "      <td>you guys are awesome &amp; I just love your \"offer...</td>\n",
              "      <td>5.0</td>\n",
              "      <td>1</td>\n",
              "    </tr>\n",
              "    <tr>\n",
              "      <th>10</th>\n",
              "      <td>Went there after referred by a friend. Tried t...</td>\n",
              "      <td>5.0</td>\n",
              "      <td>1</td>\n",
              "    </tr>\n",
              "  </tbody>\n",
              "</table>\n",
              "</div>"
            ],
            "text/plain": [
              "                                          Review Text  Review  Sentiment\n",
              "2   The man who is foodie like me for him arabian ...     5.0          1\n",
              "4   This place is too much comfortable & food is d...     4.0          1\n",
              "6   I check it out like a second home of mine...fe...     3.0          1\n",
              "8   you guys are awesome & I just love your \"offer...     5.0          1\n",
              "10  Went there after referred by a friend. Tried t...     5.0          1"
            ]
          },
          "metadata": {
            "tags": []
          },
          "execution_count": 207
        }
      ]
    },
    {
      "cell_type": "code",
      "metadata": {
        "id": "O3Wv8JHOv9Kp",
        "colab_type": "code",
        "colab": {
          "base_uri": "https://localhost:8080/",
          "height": 34
        },
        "outputId": "b7c5b2f8-2161-4c06-acb1-47ecfcd543a9"
      },
      "source": [
        "df2_bal.shape"
      ],
      "execution_count": 208,
      "outputs": [
        {
          "output_type": "execute_result",
          "data": {
            "text/plain": [
              "(5800, 3)"
            ]
          },
          "metadata": {
            "tags": []
          },
          "execution_count": 208
        }
      ]
    },
    {
      "cell_type": "code",
      "metadata": {
        "id": "Nzjq9VQrtWAp",
        "colab_type": "code",
        "colab": {
          "base_uri": "https://localhost:8080/",
          "height": 204
        },
        "outputId": "188c4222-a0bd-4288-99fe-f75dc24fc19c"
      },
      "source": [
        "# Remove the 'Review' column\n",
        "df2_bal.drop(['Review'], axis=1, inplace=True)\n",
        "df2_bal.head()"
      ],
      "execution_count": 209,
      "outputs": [
        {
          "output_type": "execute_result",
          "data": {
            "text/html": [
              "<div>\n",
              "<style scoped>\n",
              "    .dataframe tbody tr th:only-of-type {\n",
              "        vertical-align: middle;\n",
              "    }\n",
              "\n",
              "    .dataframe tbody tr th {\n",
              "        vertical-align: top;\n",
              "    }\n",
              "\n",
              "    .dataframe thead th {\n",
              "        text-align: right;\n",
              "    }\n",
              "</style>\n",
              "<table border=\"1\" class=\"dataframe\">\n",
              "  <thead>\n",
              "    <tr style=\"text-align: right;\">\n",
              "      <th></th>\n",
              "      <th>Review Text</th>\n",
              "      <th>Sentiment</th>\n",
              "    </tr>\n",
              "  </thead>\n",
              "  <tbody>\n",
              "    <tr>\n",
              "      <th>2</th>\n",
              "      <td>The man who is foodie like me for him arabian ...</td>\n",
              "      <td>1</td>\n",
              "    </tr>\n",
              "    <tr>\n",
              "      <th>4</th>\n",
              "      <td>This place is too much comfortable &amp; food is d...</td>\n",
              "      <td>1</td>\n",
              "    </tr>\n",
              "    <tr>\n",
              "      <th>6</th>\n",
              "      <td>I check it out like a second home of mine...fe...</td>\n",
              "      <td>1</td>\n",
              "    </tr>\n",
              "    <tr>\n",
              "      <th>8</th>\n",
              "      <td>you guys are awesome &amp; I just love your \"offer...</td>\n",
              "      <td>1</td>\n",
              "    </tr>\n",
              "    <tr>\n",
              "      <th>10</th>\n",
              "      <td>Went there after referred by a friend. Tried t...</td>\n",
              "      <td>1</td>\n",
              "    </tr>\n",
              "  </tbody>\n",
              "</table>\n",
              "</div>"
            ],
            "text/plain": [
              "                                          Review Text  Sentiment\n",
              "2   The man who is foodie like me for him arabian ...          1\n",
              "4   This place is too much comfortable & food is d...          1\n",
              "6   I check it out like a second home of mine...fe...          1\n",
              "8   you guys are awesome & I just love your \"offer...          1\n",
              "10  Went there after referred by a friend. Tried t...          1"
            ]
          },
          "metadata": {
            "tags": []
          },
          "execution_count": 209
        }
      ]
    },
    {
      "cell_type": "code",
      "metadata": {
        "id": "Btzuck0fuKIJ",
        "colab_type": "code",
        "colab": {}
      },
      "source": [
        "# Change the column names of df2 to match with df1\n",
        "df2_bal.columns = ['Review', 'Sentiment']"
      ],
      "execution_count": 210,
      "outputs": []
    },
    {
      "cell_type": "markdown",
      "metadata": {
        "id": "Nm60MU5KtsAi",
        "colab_type": "text"
      },
      "source": [
        "Merge both the dataframes df1 and df2"
      ]
    },
    {
      "cell_type": "code",
      "metadata": {
        "id": "FwQ2E9jityFz",
        "colab_type": "code",
        "colab": {}
      },
      "source": [
        "# merge df1 and df2\n",
        "df = pd.concat([df1,df2_bal])"
      ],
      "execution_count": 211,
      "outputs": []
    },
    {
      "cell_type": "code",
      "metadata": {
        "id": "e5zb6DI-t9Ta",
        "colab_type": "code",
        "colab": {
          "base_uri": "https://localhost:8080/",
          "height": 204
        },
        "outputId": "8c849c8a-9f6c-4baa-9444-afa48df3575e"
      },
      "source": [
        "df.head()"
      ],
      "execution_count": 212,
      "outputs": [
        {
          "output_type": "execute_result",
          "data": {
            "text/html": [
              "<div>\n",
              "<style scoped>\n",
              "    .dataframe tbody tr th:only-of-type {\n",
              "        vertical-align: middle;\n",
              "    }\n",
              "\n",
              "    .dataframe tbody tr th {\n",
              "        vertical-align: top;\n",
              "    }\n",
              "\n",
              "    .dataframe thead th {\n",
              "        text-align: right;\n",
              "    }\n",
              "</style>\n",
              "<table border=\"1\" class=\"dataframe\">\n",
              "  <thead>\n",
              "    <tr style=\"text-align: right;\">\n",
              "      <th></th>\n",
              "      <th>Review</th>\n",
              "      <th>Sentiment</th>\n",
              "    </tr>\n",
              "  </thead>\n",
              "  <tbody>\n",
              "    <tr>\n",
              "      <th>0</th>\n",
              "      <td>Wow... Loved this place.</td>\n",
              "      <td>1</td>\n",
              "    </tr>\n",
              "    <tr>\n",
              "      <th>1</th>\n",
              "      <td>Crust is not good.</td>\n",
              "      <td>0</td>\n",
              "    </tr>\n",
              "    <tr>\n",
              "      <th>2</th>\n",
              "      <td>Not tasty and the texture was just nasty.</td>\n",
              "      <td>0</td>\n",
              "    </tr>\n",
              "    <tr>\n",
              "      <th>3</th>\n",
              "      <td>Stopped by during the late May bank holiday of...</td>\n",
              "      <td>1</td>\n",
              "    </tr>\n",
              "    <tr>\n",
              "      <th>4</th>\n",
              "      <td>The selection on the menu was great and so wer...</td>\n",
              "      <td>1</td>\n",
              "    </tr>\n",
              "  </tbody>\n",
              "</table>\n",
              "</div>"
            ],
            "text/plain": [
              "                                              Review  Sentiment\n",
              "0                           Wow... Loved this place.          1\n",
              "1                                 Crust is not good.          0\n",
              "2          Not tasty and the texture was just nasty.          0\n",
              "3  Stopped by during the late May bank holiday of...          1\n",
              "4  The selection on the menu was great and so wer...          1"
            ]
          },
          "metadata": {
            "tags": []
          },
          "execution_count": 212
        }
      ]
    },
    {
      "cell_type": "code",
      "metadata": {
        "id": "7HQ86NnruaKs",
        "colab_type": "code",
        "colab": {
          "base_uri": "https://localhost:8080/",
          "height": 68
        },
        "outputId": "8be46456-6bde-4f73-a1ab-fc611e0feeb6"
      },
      "source": [
        "# Sentiment distribution across df\n",
        "df['Sentiment'].value_counts()"
      ],
      "execution_count": 213,
      "outputs": [
        {
          "output_type": "execute_result",
          "data": {
            "text/plain": [
              "1    3400\n",
              "0    3400\n",
              "Name: Sentiment, dtype: int64"
            ]
          },
          "metadata": {
            "tags": []
          },
          "execution_count": 213
        }
      ]
    },
    {
      "cell_type": "code",
      "metadata": {
        "id": "mwHrsSri7vkU",
        "colab_type": "code",
        "colab": {}
      },
      "source": [
        "# Save the final dataset into a csv\n",
        "df.to_csv(\"/content/drive/My Drive/Restaurant Reviews/reviews_final.csv\", index=False)"
      ],
      "execution_count": 214,
      "outputs": []
    },
    {
      "cell_type": "markdown",
      "metadata": {
        "id": "uKwAfEVajwkb",
        "colab_type": "text"
      },
      "source": [
        "## Clean the data\n",
        "  * Remove all the special characters\n",
        "  * Change all the characters to lower case\n",
        "  * Tokenize each reviews into words\n",
        "  * Remove stopwords\n",
        "  * Perform Stemming / Lemmatization"
      ]
    },
    {
      "cell_type": "code",
      "metadata": {
        "id": "boIhCjI58d-B",
        "colab_type": "code",
        "colab": {}
      },
      "source": [
        "# load the final dataset into a pandas dataframe\n",
        "df = pd.read_csv(\"/content/drive/My Drive/Restaurant Reviews/reviews_final.csv\")"
      ],
      "execution_count": 215,
      "outputs": []
    },
    {
      "cell_type": "code",
      "metadata": {
        "id": "sHfJVpLj_YYk",
        "colab_type": "code",
        "colab": {
          "base_uri": "https://localhost:8080/",
          "height": 204
        },
        "outputId": "e9490d45-d478-4827-b679-e0f0d89c5f90"
      },
      "source": [
        "df.head()"
      ],
      "execution_count": 216,
      "outputs": [
        {
          "output_type": "execute_result",
          "data": {
            "text/html": [
              "<div>\n",
              "<style scoped>\n",
              "    .dataframe tbody tr th:only-of-type {\n",
              "        vertical-align: middle;\n",
              "    }\n",
              "\n",
              "    .dataframe tbody tr th {\n",
              "        vertical-align: top;\n",
              "    }\n",
              "\n",
              "    .dataframe thead th {\n",
              "        text-align: right;\n",
              "    }\n",
              "</style>\n",
              "<table border=\"1\" class=\"dataframe\">\n",
              "  <thead>\n",
              "    <tr style=\"text-align: right;\">\n",
              "      <th></th>\n",
              "      <th>Review</th>\n",
              "      <th>Sentiment</th>\n",
              "    </tr>\n",
              "  </thead>\n",
              "  <tbody>\n",
              "    <tr>\n",
              "      <th>0</th>\n",
              "      <td>Wow... Loved this place.</td>\n",
              "      <td>1</td>\n",
              "    </tr>\n",
              "    <tr>\n",
              "      <th>1</th>\n",
              "      <td>Crust is not good.</td>\n",
              "      <td>0</td>\n",
              "    </tr>\n",
              "    <tr>\n",
              "      <th>2</th>\n",
              "      <td>Not tasty and the texture was just nasty.</td>\n",
              "      <td>0</td>\n",
              "    </tr>\n",
              "    <tr>\n",
              "      <th>3</th>\n",
              "      <td>Stopped by during the late May bank holiday of...</td>\n",
              "      <td>1</td>\n",
              "    </tr>\n",
              "    <tr>\n",
              "      <th>4</th>\n",
              "      <td>The selection on the menu was great and so wer...</td>\n",
              "      <td>1</td>\n",
              "    </tr>\n",
              "  </tbody>\n",
              "</table>\n",
              "</div>"
            ],
            "text/plain": [
              "                                              Review  Sentiment\n",
              "0                           Wow... Loved this place.          1\n",
              "1                                 Crust is not good.          0\n",
              "2          Not tasty and the texture was just nasty.          0\n",
              "3  Stopped by during the late May bank holiday of...          1\n",
              "4  The selection on the menu was great and so wer...          1"
            ]
          },
          "metadata": {
            "tags": []
          },
          "execution_count": 216
        }
      ]
    },
    {
      "cell_type": "code",
      "metadata": {
        "id": "GsFJul9wjZbO",
        "colab_type": "code",
        "colab": {}
      },
      "source": [
        "# Import other stopwords and PortetStemmer\n",
        "from nltk.corpus import stopwords\n",
        "from nltk.stem.porter import PorterStemmer\n",
        "\n",
        "ps = PorterStemmer()\n",
        "\n",
        "# Function for cleaning the reviews\n",
        "def clean_text(text):\n",
        "\n",
        "  # cleaning special characters from reviews\n",
        "  review = re.sub(pattern='[^a-zA-Z]', repl=' ', string=text)\n",
        "\n",
        "  # converting each review into lowercase\n",
        "  review = review.lower()\n",
        "\n",
        "  # tokenizing the review into words\n",
        "  review_words = review.split()\n",
        "\n",
        "  # removing the stop words\n",
        "  review_words = [word for word in review_words if word not in set(stopwords.words('english'))]\n",
        "\n",
        "  # stemming the words\n",
        "  review_words = [ps.stem(word) for word in review_words]\n",
        "\n",
        "  # joining the stemmed words\n",
        "  review = ' '.join(review_words)\n",
        "\n",
        "  return review\n",
        "\n",
        "\n",
        "# clean text data\n",
        "df[\"Review_cleaned\"] = df[\"Review\"].apply(lambda x: clean_text(x))"
      ],
      "execution_count": 217,
      "outputs": []
    },
    {
      "cell_type": "code",
      "metadata": {
        "id": "ew6qKBttlwZT",
        "colab_type": "code",
        "colab": {
          "base_uri": "https://localhost:8080/",
          "height": 204
        },
        "outputId": "1b27a38c-ac9b-4141-90c5-cfd03db85827"
      },
      "source": [
        "df.head()"
      ],
      "execution_count": 218,
      "outputs": [
        {
          "output_type": "execute_result",
          "data": {
            "text/html": [
              "<div>\n",
              "<style scoped>\n",
              "    .dataframe tbody tr th:only-of-type {\n",
              "        vertical-align: middle;\n",
              "    }\n",
              "\n",
              "    .dataframe tbody tr th {\n",
              "        vertical-align: top;\n",
              "    }\n",
              "\n",
              "    .dataframe thead th {\n",
              "        text-align: right;\n",
              "    }\n",
              "</style>\n",
              "<table border=\"1\" class=\"dataframe\">\n",
              "  <thead>\n",
              "    <tr style=\"text-align: right;\">\n",
              "      <th></th>\n",
              "      <th>Review</th>\n",
              "      <th>Sentiment</th>\n",
              "      <th>Review_cleaned</th>\n",
              "    </tr>\n",
              "  </thead>\n",
              "  <tbody>\n",
              "    <tr>\n",
              "      <th>0</th>\n",
              "      <td>Wow... Loved this place.</td>\n",
              "      <td>1</td>\n",
              "      <td>wow love place</td>\n",
              "    </tr>\n",
              "    <tr>\n",
              "      <th>1</th>\n",
              "      <td>Crust is not good.</td>\n",
              "      <td>0</td>\n",
              "      <td>crust good</td>\n",
              "    </tr>\n",
              "    <tr>\n",
              "      <th>2</th>\n",
              "      <td>Not tasty and the texture was just nasty.</td>\n",
              "      <td>0</td>\n",
              "      <td>tasti textur nasti</td>\n",
              "    </tr>\n",
              "    <tr>\n",
              "      <th>3</th>\n",
              "      <td>Stopped by during the late May bank holiday of...</td>\n",
              "      <td>1</td>\n",
              "      <td>stop late may bank holiday rick steve recommen...</td>\n",
              "    </tr>\n",
              "    <tr>\n",
              "      <th>4</th>\n",
              "      <td>The selection on the menu was great and so wer...</td>\n",
              "      <td>1</td>\n",
              "      <td>select menu great price</td>\n",
              "    </tr>\n",
              "  </tbody>\n",
              "</table>\n",
              "</div>"
            ],
            "text/plain": [
              "                                              Review  ...                                     Review_cleaned\n",
              "0                           Wow... Loved this place.  ...                                     wow love place\n",
              "1                                 Crust is not good.  ...                                         crust good\n",
              "2          Not tasty and the texture was just nasty.  ...                                 tasti textur nasti\n",
              "3  Stopped by during the late May bank holiday of...  ...  stop late may bank holiday rick steve recommen...\n",
              "4  The selection on the menu was great and so wer...  ...                            select menu great price\n",
              "\n",
              "[5 rows x 3 columns]"
            ]
          },
          "metadata": {
            "tags": []
          },
          "execution_count": 218
        }
      ]
    },
    {
      "cell_type": "markdown",
      "metadata": {
        "id": "4E19hdLEuhfu",
        "colab_type": "text"
      },
      "source": [
        "## Feature Engineering"
      ]
    },
    {
      "cell_type": "markdown",
      "metadata": {
        "id": "4PYdEf34xdAD",
        "colab_type": "text"
      },
      "source": [
        "We use vader, which uses lexicon of words to find which ones are positive and negative. It takes into account the context of the sentences and determine the below four scores.\n",
        "  * a neutrality score\n",
        "  * a positivity score\n",
        "  * a negativity score\n",
        "  * an overall score that summarizes the previous scores\n",
        "\n",
        "We will integrate these four values as features in our dataset."
      ]
    },
    {
      "cell_type": "code",
      "metadata": {
        "id": "_1-dcSZruqgA",
        "colab_type": "code",
        "colab": {
          "base_uri": "https://localhost:8080/",
          "height": 51
        },
        "outputId": "21070cdf-92f4-4380-ba4f-ed03f386dec9"
      },
      "source": [
        "from nltk.sentiment.vader import SentimentIntensityAnalyzer\n",
        "nltk.download('vader_lexicon')\n",
        "\n",
        "sia = SentimentIntensityAnalyzer()\n",
        "df['sentiments_tmp'] = df[\"Review\"].apply(lambda x: sia.polarity_scores(x))\n",
        "df = pd.concat([df.drop(['sentiments_tmp'], axis=1), df['sentiments_tmp'].apply(pd.Series)], axis=1)"
      ],
      "execution_count": 219,
      "outputs": [
        {
          "output_type": "stream",
          "text": [
            "[nltk_data] Downloading package vader_lexicon to /root/nltk_data...\n",
            "[nltk_data]   Package vader_lexicon is already up-to-date!\n"
          ],
          "name": "stdout"
        }
      ]
    },
    {
      "cell_type": "markdown",
      "metadata": {
        "id": "UelxwLnSwm1M",
        "colab_type": "text"
      },
      "source": [
        "Next we add some metrics to each review\n",
        "* Number of characters in each review\n",
        "* Number of words in each review"
      ]
    },
    {
      "cell_type": "code",
      "metadata": {
        "id": "X1Ml46jkzFOc",
        "colab_type": "code",
        "colab": {}
      },
      "source": [
        "# add number of characters column\n",
        "df[\"nb_chars\"] = df['Review'].apply(lambda x : len(x))\n",
        "\n",
        "# add number of words column\n",
        "df[\"nb_words\"] = df[\"Review\"].apply(lambda x : len(x.split(\" \")))"
      ],
      "execution_count": 220,
      "outputs": []
    },
    {
      "cell_type": "code",
      "metadata": {
        "id": "4N_xyyMEzts3",
        "colab_type": "code",
        "colab": {
          "base_uri": "https://localhost:8080/",
          "height": 255
        },
        "outputId": "8a639bac-2b62-4aca-aea5-8f9ddbea2047"
      },
      "source": [
        "df.head()"
      ],
      "execution_count": 221,
      "outputs": [
        {
          "output_type": "execute_result",
          "data": {
            "text/html": [
              "<div>\n",
              "<style scoped>\n",
              "    .dataframe tbody tr th:only-of-type {\n",
              "        vertical-align: middle;\n",
              "    }\n",
              "\n",
              "    .dataframe tbody tr th {\n",
              "        vertical-align: top;\n",
              "    }\n",
              "\n",
              "    .dataframe thead th {\n",
              "        text-align: right;\n",
              "    }\n",
              "</style>\n",
              "<table border=\"1\" class=\"dataframe\">\n",
              "  <thead>\n",
              "    <tr style=\"text-align: right;\">\n",
              "      <th></th>\n",
              "      <th>Review</th>\n",
              "      <th>Sentiment</th>\n",
              "      <th>Review_cleaned</th>\n",
              "      <th>neg</th>\n",
              "      <th>neu</th>\n",
              "      <th>pos</th>\n",
              "      <th>compound</th>\n",
              "      <th>nb_chars</th>\n",
              "      <th>nb_words</th>\n",
              "    </tr>\n",
              "  </thead>\n",
              "  <tbody>\n",
              "    <tr>\n",
              "      <th>0</th>\n",
              "      <td>Wow... Loved this place.</td>\n",
              "      <td>1</td>\n",
              "      <td>wow love place</td>\n",
              "      <td>0.000</td>\n",
              "      <td>0.435</td>\n",
              "      <td>0.565</td>\n",
              "      <td>0.5994</td>\n",
              "      <td>24</td>\n",
              "      <td>4</td>\n",
              "    </tr>\n",
              "    <tr>\n",
              "      <th>1</th>\n",
              "      <td>Crust is not good.</td>\n",
              "      <td>0</td>\n",
              "      <td>crust good</td>\n",
              "      <td>0.445</td>\n",
              "      <td>0.555</td>\n",
              "      <td>0.000</td>\n",
              "      <td>-0.3412</td>\n",
              "      <td>18</td>\n",
              "      <td>4</td>\n",
              "    </tr>\n",
              "    <tr>\n",
              "      <th>2</th>\n",
              "      <td>Not tasty and the texture was just nasty.</td>\n",
              "      <td>0</td>\n",
              "      <td>tasti textur nasti</td>\n",
              "      <td>0.340</td>\n",
              "      <td>0.660</td>\n",
              "      <td>0.000</td>\n",
              "      <td>-0.5574</td>\n",
              "      <td>41</td>\n",
              "      <td>8</td>\n",
              "    </tr>\n",
              "    <tr>\n",
              "      <th>3</th>\n",
              "      <td>Stopped by during the late May bank holiday of...</td>\n",
              "      <td>1</td>\n",
              "      <td>stop late may bank holiday rick steve recommen...</td>\n",
              "      <td>0.093</td>\n",
              "      <td>0.585</td>\n",
              "      <td>0.322</td>\n",
              "      <td>0.6908</td>\n",
              "      <td>87</td>\n",
              "      <td>15</td>\n",
              "    </tr>\n",
              "    <tr>\n",
              "      <th>4</th>\n",
              "      <td>The selection on the menu was great and so wer...</td>\n",
              "      <td>1</td>\n",
              "      <td>select menu great price</td>\n",
              "      <td>0.000</td>\n",
              "      <td>0.728</td>\n",
              "      <td>0.272</td>\n",
              "      <td>0.6249</td>\n",
              "      <td>59</td>\n",
              "      <td>12</td>\n",
              "    </tr>\n",
              "  </tbody>\n",
              "</table>\n",
              "</div>"
            ],
            "text/plain": [
              "                                              Review  ...  nb_words\n",
              "0                           Wow... Loved this place.  ...         4\n",
              "1                                 Crust is not good.  ...         4\n",
              "2          Not tasty and the texture was just nasty.  ...         8\n",
              "3  Stopped by during the late May bank holiday of...  ...        15\n",
              "4  The selection on the menu was great and so wer...  ...        12\n",
              "\n",
              "[5 rows x 9 columns]"
            ]
          },
          "metadata": {
            "tags": []
          },
          "execution_count": 221
        }
      ]
    },
    {
      "cell_type": "markdown",
      "metadata": {
        "id": "2DqMWT7eXxtC",
        "colab_type": "text"
      },
      "source": [
        "Extracting vector representations for each review"
      ]
    },
    {
      "cell_type": "code",
      "metadata": {
        "id": "9vWWgLzTaNdl",
        "colab_type": "code",
        "colab": {}
      },
      "source": [
        "# create doc2Vec vector columns\n",
        "from gensim.test.utils import common_texts\n",
        "from gensim.models.doc2vec import Doc2Vec, TaggedDocument\n",
        "\n",
        "documents = [TaggedDocument(doc, [i]) for i, doc in enumerate(df[\"Review_cleaned\"].apply(lambda x: x.split(\" \")))]\n",
        "\n",
        "# train doc2vec model with our text data\n",
        "model = Doc2Vec(documents, vector_size=5, window=2, min_count=1, workers=4)\n",
        "\n",
        "# transform each document into a vector data\n",
        "doc2vec_df = df[\"Review_cleaned\"].apply(lambda x: model.infer_vector(x.split(\" \"))).apply(pd.Series)\n",
        "doc2vec_df.columns = [\"doc2vec_vector_\" + str(x) for x in doc2vec_df.columns]\n",
        "df = pd.concat([df, doc2vec_df], axis=1)"
      ],
      "execution_count": 222,
      "outputs": []
    },
    {
      "cell_type": "code",
      "metadata": {
        "id": "8douXsKjDGGI",
        "colab_type": "code",
        "colab": {}
      },
      "source": [
        "# save the trained doc2vec model\n",
        "pickle.dump(model, open('/content/drive/My Drive/Restaurant Reviews/doc2vec-model.pkl', 'wb'))"
      ],
      "execution_count": 264,
      "outputs": []
    },
    {
      "cell_type": "markdown",
      "metadata": {
        "id": "ULEgk8aZduJg",
        "colab_type": "text"
      },
      "source": [
        "Add TF-IDF values for every word and every document"
      ]
    },
    {
      "cell_type": "code",
      "metadata": {
        "id": "wOrn_wa7dTLe",
        "colab_type": "code",
        "colab": {}
      },
      "source": [
        "from sklearn.feature_extraction.text import TfidfVectorizer\n",
        "tfidf = TfidfVectorizer(min_df=10)\n",
        "tfidf_result = tfidf.fit_transform(df['Review_cleaned']).toarray()\n",
        "tfidf_df = pd.DataFrame(tfidf_result, columns=tfidf.get_feature_names())\n",
        "tfidf_df.columns = [\"word_\" + str(x) for x in tfidf_df.columns]\n",
        "tfidf_df.index = df.index\n",
        "df = pd.concat([df, tfidf_df], axis=1)"
      ],
      "execution_count": 223,
      "outputs": []
    },
    {
      "cell_type": "code",
      "metadata": {
        "id": "58gGfmobXxiF",
        "colab_type": "code",
        "colab": {
          "base_uri": "https://localhost:8080/",
          "height": 644
        },
        "outputId": "d4df42e6-7f9d-40b4-b926-88bfd0863c06"
      },
      "source": [
        "df.head()"
      ],
      "execution_count": 224,
      "outputs": [
        {
          "output_type": "execute_result",
          "data": {
            "text/html": [
              "<div>\n",
              "<style scoped>\n",
              "    .dataframe tbody tr th:only-of-type {\n",
              "        vertical-align: middle;\n",
              "    }\n",
              "\n",
              "    .dataframe tbody tr th {\n",
              "        vertical-align: top;\n",
              "    }\n",
              "\n",
              "    .dataframe thead th {\n",
              "        text-align: right;\n",
              "    }\n",
              "</style>\n",
              "<table border=\"1\" class=\"dataframe\">\n",
              "  <thead>\n",
              "    <tr style=\"text-align: right;\">\n",
              "      <th></th>\n",
              "      <th>Review</th>\n",
              "      <th>Sentiment</th>\n",
              "      <th>Review_cleaned</th>\n",
              "      <th>neg</th>\n",
              "      <th>neu</th>\n",
              "      <th>pos</th>\n",
              "      <th>compound</th>\n",
              "      <th>nb_chars</th>\n",
              "      <th>nb_words</th>\n",
              "      <th>doc2vec_vector_0</th>\n",
              "      <th>doc2vec_vector_1</th>\n",
              "      <th>doc2vec_vector_2</th>\n",
              "      <th>doc2vec_vector_3</th>\n",
              "      <th>doc2vec_vector_4</th>\n",
              "      <th>word_abar</th>\n",
              "      <th>word_abl</th>\n",
              "      <th>word_absolut</th>\n",
              "      <th>word_ac</th>\n",
              "      <th>word_accept</th>\n",
              "      <th>word_accord</th>\n",
              "      <th>word_actual</th>\n",
              "      <th>word_ad</th>\n",
              "      <th>word_add</th>\n",
              "      <th>word_addit</th>\n",
              "      <th>word_advertis</th>\n",
              "      <th>word_afford</th>\n",
              "      <th>word_age</th>\n",
              "      <th>word_ago</th>\n",
              "      <th>word_ahead</th>\n",
              "      <th>word_air</th>\n",
              "      <th>word_ajk</th>\n",
              "      <th>word_ak</th>\n",
              "      <th>word_akta</th>\n",
              "      <th>word_al</th>\n",
              "      <th>word_allah</th>\n",
              "      <th>word_almost</th>\n",
              "      <th>word_along</th>\n",
              "      <th>word_alreadi</th>\n",
              "      <th>word_alright</th>\n",
              "      <th>word_also</th>\n",
              "      <th>...</th>\n",
              "      <th>word_wastag</th>\n",
              "      <th>word_watch</th>\n",
              "      <th>word_water</th>\n",
              "      <th>word_way</th>\n",
              "      <th>word_wedg</th>\n",
              "      <th>word_week</th>\n",
              "      <th>word_welcom</th>\n",
              "      <th>word_well</th>\n",
              "      <th>word_went</th>\n",
              "      <th>word_whenev</th>\n",
              "      <th>word_white</th>\n",
              "      <th>word_whole</th>\n",
              "      <th>word_wife</th>\n",
              "      <th>word_wing</th>\n",
              "      <th>word_wish</th>\n",
              "      <th>word_within</th>\n",
              "      <th>word_without</th>\n",
              "      <th>word_wonder</th>\n",
              "      <th>word_wont</th>\n",
              "      <th>word_word</th>\n",
              "      <th>word_work</th>\n",
              "      <th>word_world</th>\n",
              "      <th>word_wors</th>\n",
              "      <th>word_worst</th>\n",
              "      <th>word_worth</th>\n",
              "      <th>word_worthi</th>\n",
              "      <th>word_would</th>\n",
              "      <th>word_wow</th>\n",
              "      <th>word_wrap</th>\n",
              "      <th>word_write</th>\n",
              "      <th>word_wrong</th>\n",
              "      <th>word_wrost</th>\n",
              "      <th>word_yammi</th>\n",
              "      <th>word_ye</th>\n",
              "      <th>word_year</th>\n",
              "      <th>word_yesterday</th>\n",
              "      <th>word_yet</th>\n",
              "      <th>word_yummi</th>\n",
              "      <th>word_zero</th>\n",
              "      <th>word_zone</th>\n",
              "    </tr>\n",
              "  </thead>\n",
              "  <tbody>\n",
              "    <tr>\n",
              "      <th>0</th>\n",
              "      <td>Wow... Loved this place.</td>\n",
              "      <td>1</td>\n",
              "      <td>wow love place</td>\n",
              "      <td>0.000</td>\n",
              "      <td>0.435</td>\n",
              "      <td>0.565</td>\n",
              "      <td>0.5994</td>\n",
              "      <td>24</td>\n",
              "      <td>4</td>\n",
              "      <td>0.043681</td>\n",
              "      <td>-0.084319</td>\n",
              "      <td>0.068132</td>\n",
              "      <td>-0.084563</td>\n",
              "      <td>0.037188</td>\n",
              "      <td>0.0</td>\n",
              "      <td>0.0</td>\n",
              "      <td>0.0</td>\n",
              "      <td>0.0</td>\n",
              "      <td>0.0</td>\n",
              "      <td>0.0</td>\n",
              "      <td>0.0</td>\n",
              "      <td>0.0</td>\n",
              "      <td>0.0</td>\n",
              "      <td>0.0</td>\n",
              "      <td>0.0</td>\n",
              "      <td>0.0</td>\n",
              "      <td>0.0</td>\n",
              "      <td>0.0</td>\n",
              "      <td>0.0</td>\n",
              "      <td>0.0</td>\n",
              "      <td>0.0</td>\n",
              "      <td>0.0</td>\n",
              "      <td>0.0</td>\n",
              "      <td>0.0</td>\n",
              "      <td>0.0</td>\n",
              "      <td>0.0</td>\n",
              "      <td>0.0</td>\n",
              "      <td>0.0</td>\n",
              "      <td>0.0</td>\n",
              "      <td>0.0</td>\n",
              "      <td>...</td>\n",
              "      <td>0.0</td>\n",
              "      <td>0.0</td>\n",
              "      <td>0.0</td>\n",
              "      <td>0.0</td>\n",
              "      <td>0.0</td>\n",
              "      <td>0.0</td>\n",
              "      <td>0.0</td>\n",
              "      <td>0.0</td>\n",
              "      <td>0.0</td>\n",
              "      <td>0.0</td>\n",
              "      <td>0.0</td>\n",
              "      <td>0.0</td>\n",
              "      <td>0.0</td>\n",
              "      <td>0.0</td>\n",
              "      <td>0.0</td>\n",
              "      <td>0.0</td>\n",
              "      <td>0.0</td>\n",
              "      <td>0.0</td>\n",
              "      <td>0.0</td>\n",
              "      <td>0.0</td>\n",
              "      <td>0.0</td>\n",
              "      <td>0.0</td>\n",
              "      <td>0.0</td>\n",
              "      <td>0.0</td>\n",
              "      <td>0.0</td>\n",
              "      <td>0.0</td>\n",
              "      <td>0.0</td>\n",
              "      <td>0.818276</td>\n",
              "      <td>0.0</td>\n",
              "      <td>0.0</td>\n",
              "      <td>0.0</td>\n",
              "      <td>0.0</td>\n",
              "      <td>0.0</td>\n",
              "      <td>0.0</td>\n",
              "      <td>0.0</td>\n",
              "      <td>0.0</td>\n",
              "      <td>0.0</td>\n",
              "      <td>0.0</td>\n",
              "      <td>0.0</td>\n",
              "      <td>0.0</td>\n",
              "    </tr>\n",
              "    <tr>\n",
              "      <th>1</th>\n",
              "      <td>Crust is not good.</td>\n",
              "      <td>0</td>\n",
              "      <td>crust good</td>\n",
              "      <td>0.445</td>\n",
              "      <td>0.555</td>\n",
              "      <td>0.000</td>\n",
              "      <td>-0.3412</td>\n",
              "      <td>18</td>\n",
              "      <td>4</td>\n",
              "      <td>0.010130</td>\n",
              "      <td>-0.032990</td>\n",
              "      <td>0.059766</td>\n",
              "      <td>0.086722</td>\n",
              "      <td>-0.015877</td>\n",
              "      <td>0.0</td>\n",
              "      <td>0.0</td>\n",
              "      <td>0.0</td>\n",
              "      <td>0.0</td>\n",
              "      <td>0.0</td>\n",
              "      <td>0.0</td>\n",
              "      <td>0.0</td>\n",
              "      <td>0.0</td>\n",
              "      <td>0.0</td>\n",
              "      <td>0.0</td>\n",
              "      <td>0.0</td>\n",
              "      <td>0.0</td>\n",
              "      <td>0.0</td>\n",
              "      <td>0.0</td>\n",
              "      <td>0.0</td>\n",
              "      <td>0.0</td>\n",
              "      <td>0.0</td>\n",
              "      <td>0.0</td>\n",
              "      <td>0.0</td>\n",
              "      <td>0.0</td>\n",
              "      <td>0.0</td>\n",
              "      <td>0.0</td>\n",
              "      <td>0.0</td>\n",
              "      <td>0.0</td>\n",
              "      <td>0.0</td>\n",
              "      <td>0.0</td>\n",
              "      <td>...</td>\n",
              "      <td>0.0</td>\n",
              "      <td>0.0</td>\n",
              "      <td>0.0</td>\n",
              "      <td>0.0</td>\n",
              "      <td>0.0</td>\n",
              "      <td>0.0</td>\n",
              "      <td>0.0</td>\n",
              "      <td>0.0</td>\n",
              "      <td>0.0</td>\n",
              "      <td>0.0</td>\n",
              "      <td>0.0</td>\n",
              "      <td>0.0</td>\n",
              "      <td>0.0</td>\n",
              "      <td>0.0</td>\n",
              "      <td>0.0</td>\n",
              "      <td>0.0</td>\n",
              "      <td>0.0</td>\n",
              "      <td>0.0</td>\n",
              "      <td>0.0</td>\n",
              "      <td>0.0</td>\n",
              "      <td>0.0</td>\n",
              "      <td>0.0</td>\n",
              "      <td>0.0</td>\n",
              "      <td>0.0</td>\n",
              "      <td>0.0</td>\n",
              "      <td>0.0</td>\n",
              "      <td>0.0</td>\n",
              "      <td>0.000000</td>\n",
              "      <td>0.0</td>\n",
              "      <td>0.0</td>\n",
              "      <td>0.0</td>\n",
              "      <td>0.0</td>\n",
              "      <td>0.0</td>\n",
              "      <td>0.0</td>\n",
              "      <td>0.0</td>\n",
              "      <td>0.0</td>\n",
              "      <td>0.0</td>\n",
              "      <td>0.0</td>\n",
              "      <td>0.0</td>\n",
              "      <td>0.0</td>\n",
              "    </tr>\n",
              "    <tr>\n",
              "      <th>2</th>\n",
              "      <td>Not tasty and the texture was just nasty.</td>\n",
              "      <td>0</td>\n",
              "      <td>tasti textur nasti</td>\n",
              "      <td>0.340</td>\n",
              "      <td>0.660</td>\n",
              "      <td>0.000</td>\n",
              "      <td>-0.5574</td>\n",
              "      <td>41</td>\n",
              "      <td>8</td>\n",
              "      <td>-0.060891</td>\n",
              "      <td>-0.168801</td>\n",
              "      <td>0.029523</td>\n",
              "      <td>-0.088486</td>\n",
              "      <td>0.038103</td>\n",
              "      <td>0.0</td>\n",
              "      <td>0.0</td>\n",
              "      <td>0.0</td>\n",
              "      <td>0.0</td>\n",
              "      <td>0.0</td>\n",
              "      <td>0.0</td>\n",
              "      <td>0.0</td>\n",
              "      <td>0.0</td>\n",
              "      <td>0.0</td>\n",
              "      <td>0.0</td>\n",
              "      <td>0.0</td>\n",
              "      <td>0.0</td>\n",
              "      <td>0.0</td>\n",
              "      <td>0.0</td>\n",
              "      <td>0.0</td>\n",
              "      <td>0.0</td>\n",
              "      <td>0.0</td>\n",
              "      <td>0.0</td>\n",
              "      <td>0.0</td>\n",
              "      <td>0.0</td>\n",
              "      <td>0.0</td>\n",
              "      <td>0.0</td>\n",
              "      <td>0.0</td>\n",
              "      <td>0.0</td>\n",
              "      <td>0.0</td>\n",
              "      <td>0.0</td>\n",
              "      <td>...</td>\n",
              "      <td>0.0</td>\n",
              "      <td>0.0</td>\n",
              "      <td>0.0</td>\n",
              "      <td>0.0</td>\n",
              "      <td>0.0</td>\n",
              "      <td>0.0</td>\n",
              "      <td>0.0</td>\n",
              "      <td>0.0</td>\n",
              "      <td>0.0</td>\n",
              "      <td>0.0</td>\n",
              "      <td>0.0</td>\n",
              "      <td>0.0</td>\n",
              "      <td>0.0</td>\n",
              "      <td>0.0</td>\n",
              "      <td>0.0</td>\n",
              "      <td>0.0</td>\n",
              "      <td>0.0</td>\n",
              "      <td>0.0</td>\n",
              "      <td>0.0</td>\n",
              "      <td>0.0</td>\n",
              "      <td>0.0</td>\n",
              "      <td>0.0</td>\n",
              "      <td>0.0</td>\n",
              "      <td>0.0</td>\n",
              "      <td>0.0</td>\n",
              "      <td>0.0</td>\n",
              "      <td>0.0</td>\n",
              "      <td>0.000000</td>\n",
              "      <td>0.0</td>\n",
              "      <td>0.0</td>\n",
              "      <td>0.0</td>\n",
              "      <td>0.0</td>\n",
              "      <td>0.0</td>\n",
              "      <td>0.0</td>\n",
              "      <td>0.0</td>\n",
              "      <td>0.0</td>\n",
              "      <td>0.0</td>\n",
              "      <td>0.0</td>\n",
              "      <td>0.0</td>\n",
              "      <td>0.0</td>\n",
              "    </tr>\n",
              "    <tr>\n",
              "      <th>3</th>\n",
              "      <td>Stopped by during the late May bank holiday of...</td>\n",
              "      <td>1</td>\n",
              "      <td>stop late may bank holiday rick steve recommen...</td>\n",
              "      <td>0.093</td>\n",
              "      <td>0.585</td>\n",
              "      <td>0.322</td>\n",
              "      <td>0.6908</td>\n",
              "      <td>87</td>\n",
              "      <td>15</td>\n",
              "      <td>-0.142140</td>\n",
              "      <td>-0.324079</td>\n",
              "      <td>0.231268</td>\n",
              "      <td>-0.077509</td>\n",
              "      <td>0.028429</td>\n",
              "      <td>0.0</td>\n",
              "      <td>0.0</td>\n",
              "      <td>0.0</td>\n",
              "      <td>0.0</td>\n",
              "      <td>0.0</td>\n",
              "      <td>0.0</td>\n",
              "      <td>0.0</td>\n",
              "      <td>0.0</td>\n",
              "      <td>0.0</td>\n",
              "      <td>0.0</td>\n",
              "      <td>0.0</td>\n",
              "      <td>0.0</td>\n",
              "      <td>0.0</td>\n",
              "      <td>0.0</td>\n",
              "      <td>0.0</td>\n",
              "      <td>0.0</td>\n",
              "      <td>0.0</td>\n",
              "      <td>0.0</td>\n",
              "      <td>0.0</td>\n",
              "      <td>0.0</td>\n",
              "      <td>0.0</td>\n",
              "      <td>0.0</td>\n",
              "      <td>0.0</td>\n",
              "      <td>0.0</td>\n",
              "      <td>0.0</td>\n",
              "      <td>0.0</td>\n",
              "      <td>...</td>\n",
              "      <td>0.0</td>\n",
              "      <td>0.0</td>\n",
              "      <td>0.0</td>\n",
              "      <td>0.0</td>\n",
              "      <td>0.0</td>\n",
              "      <td>0.0</td>\n",
              "      <td>0.0</td>\n",
              "      <td>0.0</td>\n",
              "      <td>0.0</td>\n",
              "      <td>0.0</td>\n",
              "      <td>0.0</td>\n",
              "      <td>0.0</td>\n",
              "      <td>0.0</td>\n",
              "      <td>0.0</td>\n",
              "      <td>0.0</td>\n",
              "      <td>0.0</td>\n",
              "      <td>0.0</td>\n",
              "      <td>0.0</td>\n",
              "      <td>0.0</td>\n",
              "      <td>0.0</td>\n",
              "      <td>0.0</td>\n",
              "      <td>0.0</td>\n",
              "      <td>0.0</td>\n",
              "      <td>0.0</td>\n",
              "      <td>0.0</td>\n",
              "      <td>0.0</td>\n",
              "      <td>0.0</td>\n",
              "      <td>0.000000</td>\n",
              "      <td>0.0</td>\n",
              "      <td>0.0</td>\n",
              "      <td>0.0</td>\n",
              "      <td>0.0</td>\n",
              "      <td>0.0</td>\n",
              "      <td>0.0</td>\n",
              "      <td>0.0</td>\n",
              "      <td>0.0</td>\n",
              "      <td>0.0</td>\n",
              "      <td>0.0</td>\n",
              "      <td>0.0</td>\n",
              "      <td>0.0</td>\n",
              "    </tr>\n",
              "    <tr>\n",
              "      <th>4</th>\n",
              "      <td>The selection on the menu was great and so wer...</td>\n",
              "      <td>1</td>\n",
              "      <td>select menu great price</td>\n",
              "      <td>0.000</td>\n",
              "      <td>0.728</td>\n",
              "      <td>0.272</td>\n",
              "      <td>0.6249</td>\n",
              "      <td>59</td>\n",
              "      <td>12</td>\n",
              "      <td>0.030338</td>\n",
              "      <td>-0.038682</td>\n",
              "      <td>0.039114</td>\n",
              "      <td>0.015122</td>\n",
              "      <td>-0.040744</td>\n",
              "      <td>0.0</td>\n",
              "      <td>0.0</td>\n",
              "      <td>0.0</td>\n",
              "      <td>0.0</td>\n",
              "      <td>0.0</td>\n",
              "      <td>0.0</td>\n",
              "      <td>0.0</td>\n",
              "      <td>0.0</td>\n",
              "      <td>0.0</td>\n",
              "      <td>0.0</td>\n",
              "      <td>0.0</td>\n",
              "      <td>0.0</td>\n",
              "      <td>0.0</td>\n",
              "      <td>0.0</td>\n",
              "      <td>0.0</td>\n",
              "      <td>0.0</td>\n",
              "      <td>0.0</td>\n",
              "      <td>0.0</td>\n",
              "      <td>0.0</td>\n",
              "      <td>0.0</td>\n",
              "      <td>0.0</td>\n",
              "      <td>0.0</td>\n",
              "      <td>0.0</td>\n",
              "      <td>0.0</td>\n",
              "      <td>0.0</td>\n",
              "      <td>0.0</td>\n",
              "      <td>...</td>\n",
              "      <td>0.0</td>\n",
              "      <td>0.0</td>\n",
              "      <td>0.0</td>\n",
              "      <td>0.0</td>\n",
              "      <td>0.0</td>\n",
              "      <td>0.0</td>\n",
              "      <td>0.0</td>\n",
              "      <td>0.0</td>\n",
              "      <td>0.0</td>\n",
              "      <td>0.0</td>\n",
              "      <td>0.0</td>\n",
              "      <td>0.0</td>\n",
              "      <td>0.0</td>\n",
              "      <td>0.0</td>\n",
              "      <td>0.0</td>\n",
              "      <td>0.0</td>\n",
              "      <td>0.0</td>\n",
              "      <td>0.0</td>\n",
              "      <td>0.0</td>\n",
              "      <td>0.0</td>\n",
              "      <td>0.0</td>\n",
              "      <td>0.0</td>\n",
              "      <td>0.0</td>\n",
              "      <td>0.0</td>\n",
              "      <td>0.0</td>\n",
              "      <td>0.0</td>\n",
              "      <td>0.0</td>\n",
              "      <td>0.000000</td>\n",
              "      <td>0.0</td>\n",
              "      <td>0.0</td>\n",
              "      <td>0.0</td>\n",
              "      <td>0.0</td>\n",
              "      <td>0.0</td>\n",
              "      <td>0.0</td>\n",
              "      <td>0.0</td>\n",
              "      <td>0.0</td>\n",
              "      <td>0.0</td>\n",
              "      <td>0.0</td>\n",
              "      <td>0.0</td>\n",
              "      <td>0.0</td>\n",
              "    </tr>\n",
              "  </tbody>\n",
              "</table>\n",
              "<p>5 rows × 1154 columns</p>\n",
              "</div>"
            ],
            "text/plain": [
              "                                              Review  ...  word_zone\n",
              "0                           Wow... Loved this place.  ...        0.0\n",
              "1                                 Crust is not good.  ...        0.0\n",
              "2          Not tasty and the texture was just nasty.  ...        0.0\n",
              "3  Stopped by during the late May bank holiday of...  ...        0.0\n",
              "4  The selection on the menu was great and so wer...  ...        0.0\n",
              "\n",
              "[5 rows x 1154 columns]"
            ]
          },
          "metadata": {
            "tags": []
          },
          "execution_count": 224
        }
      ]
    },
    {
      "cell_type": "code",
      "metadata": {
        "id": "syLUPjXXgVmK",
        "colab_type": "code",
        "colab": {
          "base_uri": "https://localhost:8080/",
          "height": 34
        },
        "outputId": "e1b98a99-bd4b-440a-8996-84c67a5555d1"
      },
      "source": [
        "df.shape"
      ],
      "execution_count": 225,
      "outputs": [
        {
          "output_type": "execute_result",
          "data": {
            "text/plain": [
              "(6800, 1154)"
            ]
          },
          "metadata": {
            "tags": []
          },
          "execution_count": 225
        }
      ]
    },
    {
      "cell_type": "code",
      "metadata": {
        "id": "Xhkj_K8rCmP6",
        "colab_type": "code",
        "colab": {}
      },
      "source": [
        "# save the trained tfidf model\n",
        "pickle.dump(tfidf, open('/content/drive/My Drive/Restaurant Reviews/tfidf-model.pkl', 'wb'))"
      ],
      "execution_count": 265,
      "outputs": []
    },
    {
      "cell_type": "markdown",
      "metadata": {
        "id": "OA9eX94hgqv1",
        "colab_type": "text"
      },
      "source": [
        "## Exploratory Data Analysis"
      ]
    },
    {
      "cell_type": "markdown",
      "metadata": {
        "id": "a15R1mO6gu4w",
        "colab_type": "text"
      },
      "source": [
        "### Word Cloud"
      ]
    },
    {
      "cell_type": "code",
      "metadata": {
        "id": "x81vN36Mg9bm",
        "colab_type": "code",
        "colab": {
          "base_uri": "https://localhost:8080/",
          "height": 310
        },
        "outputId": "792e21cb-660a-49ef-e3a3-8a0ac9d9be43"
      },
      "source": [
        "# wordcloud function\n",
        "\n",
        "from wordcloud import WordCloud\n",
        "import matplotlib.pyplot as plt\n",
        "\n",
        "def show_wordcloud(data, title = None):\n",
        "    wordcloud = WordCloud(\n",
        "        background_color = 'white',\n",
        "        max_words = 200,\n",
        "        max_font_size = 40, \n",
        "        scale = 3,\n",
        "        random_state = 42\n",
        "    ).generate(str(data))\n",
        "\n",
        "    fig = plt.figure(1, figsize = (10, 10))\n",
        "    plt.axis('off')\n",
        "    if title: \n",
        "        fig.suptitle(title, fontsize = 20)\n",
        "        fig.subplots_adjust(top = 2.3)\n",
        "\n",
        "    plt.imshow(wordcloud)\n",
        "    plt.show()\n",
        "    \n",
        "# print wordcloud\n",
        "show_wordcloud(df[\"Review\"])"
      ],
      "execution_count": 226,
      "outputs": [
        {
          "output_type": "display_data",
          "data": {
            "image/png": "[encoded data removed]",
            "text/plain": [
              "<Figure size 720x720 with 1 Axes>"
            ]
          },
          "metadata": {
            "tags": []
          }
        }
      ]
    },
    {
      "cell_type": "markdown",
      "metadata": {
        "id": "elDlglpt9u1f",
        "colab_type": "text"
      },
      "source": [
        "### Create test and train sets\n"
      ]
    },
    {
      "cell_type": "code",
      "metadata": {
        "id": "iVXrTYOe-jcm",
        "colab_type": "code",
        "colab": {}
      },
      "source": [
        "# feature selection\n",
        "label = 'Sentiment'\n",
        "ignore_columns = [label, 'Review', 'Review_cleaned']\n",
        "\n",
        "features = [c for c in df.columns if not c in ignore_columns]\n",
        "\n",
        "# split the data into test and train sets\n",
        "from sklearn.model_selection import train_test_split\n",
        "X, y = df[features], df[label]\n",
        "X_train, X_test, y_train, y_test = train_test_split(X, y, test_size=0.2, random_state=0)"
      ],
      "execution_count": 227,
      "outputs": []
    },
    {
      "cell_type": "code",
      "metadata": {
        "id": "43E-umOK_AP2",
        "colab_type": "code",
        "colab": {
          "base_uri": "https://localhost:8080/",
          "height": 34
        },
        "outputId": "b8b9f56d-2d0f-49be-a4cb-3a7fe7aa7879"
      },
      "source": [
        "(X_train.shape, y_train.shape)"
      ],
      "execution_count": 228,
      "outputs": [
        {
          "output_type": "execute_result",
          "data": {
            "text/plain": [
              "((5440, 1151), (5440,))"
            ]
          },
          "metadata": {
            "tags": []
          },
          "execution_count": 228
        }
      ]
    },
    {
      "cell_type": "code",
      "metadata": {
        "id": "3dyM9NaL_DfA",
        "colab_type": "code",
        "colab": {
          "base_uri": "https://localhost:8080/",
          "height": 34
        },
        "outputId": "a12bfd13-a149-49e4-8dc0-2ddc8968fcf2"
      },
      "source": [
        "(X_test.shape, y_test.shape)"
      ],
      "execution_count": 229,
      "outputs": [
        {
          "output_type": "execute_result",
          "data": {
            "text/plain": [
              "((1360, 1151), (1360,))"
            ]
          },
          "metadata": {
            "tags": []
          },
          "execution_count": 229
        }
      ]
    },
    {
      "cell_type": "markdown",
      "metadata": {
        "id": "JPS4gpOX_QMP",
        "colab_type": "text"
      },
      "source": [
        "### Model Building\n",
        "\n",
        "Here we are using Naive Bayes classifier model, it works on probability."
      ]
    },
    {
      "cell_type": "code",
      "metadata": {
        "id": "6shDeT-S_ki2",
        "colab_type": "code",
        "colab": {
          "base_uri": "https://localhost:8080/",
          "height": 153
        },
        "outputId": "e4cb52c1-7f96-4dc4-adca-da8e1ec39ff3"
      },
      "source": [
        "# import Random Forest Classifier from sklearn\n",
        "from sklearn.ensemble import RandomForestClassifier\n",
        "\n",
        "# create an instance for MultinomialNB\n",
        "rf = RandomForestClassifier(random_state=42)\n",
        "\n",
        "# Fit the data to the model\n",
        "rf.fit(X_train, y_train)"
      ],
      "execution_count": 230,
      "outputs": [
        {
          "output_type": "execute_result",
          "data": {
            "text/plain": [
              "RandomForestClassifier(bootstrap=True, ccp_alpha=0.0, class_weight=None,\n",
              "                       criterion='gini', max_depth=None, max_features='auto',\n",
              "                       max_leaf_nodes=None, max_samples=None,\n",
              "                       min_impurity_decrease=0.0, min_impurity_split=None,\n",
              "                       min_samples_leaf=1, min_samples_split=2,\n",
              "                       min_weight_fraction_leaf=0.0, n_estimators=100,\n",
              "                       n_jobs=None, oob_score=False, random_state=42, verbose=0,\n",
              "                       warm_start=False)"
            ]
          },
          "metadata": {
            "tags": []
          },
          "execution_count": 230
        }
      ]
    },
    {
      "cell_type": "code",
      "metadata": {
        "id": "Goxxj3hLrTh2",
        "colab_type": "code",
        "colab": {
          "base_uri": "https://localhost:8080/",
          "height": 669
        },
        "outputId": "b5257cbe-4c0a-4a87-e759-a6b20e400b7e"
      },
      "source": [
        "## Feature Importance\n",
        "\n",
        "feature_importances_df = pd.DataFrame({'feature':features, 'importance':rf.feature_importances_}).sort_values('importance', ascending=False)\n",
        "feature_importances_df.head(20)"
      ],
      "execution_count": 231,
      "outputs": [
        {
          "output_type": "execute_result",
          "data": {
            "text/html": [
              "<div>\n",
              "<style scoped>\n",
              "    .dataframe tbody tr th:only-of-type {\n",
              "        vertical-align: middle;\n",
              "    }\n",
              "\n",
              "    .dataframe tbody tr th {\n",
              "        vertical-align: top;\n",
              "    }\n",
              "\n",
              "    .dataframe thead th {\n",
              "        text-align: right;\n",
              "    }\n",
              "</style>\n",
              "<table border=\"1\" class=\"dataframe\">\n",
              "  <thead>\n",
              "    <tr style=\"text-align: right;\">\n",
              "      <th></th>\n",
              "      <th>feature</th>\n",
              "      <th>importance</th>\n",
              "    </tr>\n",
              "  </thead>\n",
              "  <tbody>\n",
              "    <tr>\n",
              "      <th>2</th>\n",
              "      <td>pos</td>\n",
              "      <td>0.146962</td>\n",
              "    </tr>\n",
              "    <tr>\n",
              "      <th>3</th>\n",
              "      <td>compound</td>\n",
              "      <td>0.139063</td>\n",
              "    </tr>\n",
              "    <tr>\n",
              "      <th>0</th>\n",
              "      <td>neg</td>\n",
              "      <td>0.077569</td>\n",
              "    </tr>\n",
              "    <tr>\n",
              "      <th>1</th>\n",
              "      <td>neu</td>\n",
              "      <td>0.029493</td>\n",
              "    </tr>\n",
              "    <tr>\n",
              "      <th>7</th>\n",
              "      <td>doc2vec_vector_1</td>\n",
              "      <td>0.022526</td>\n",
              "    </tr>\n",
              "    <tr>\n",
              "      <th>6</th>\n",
              "      <td>doc2vec_vector_0</td>\n",
              "      <td>0.022289</td>\n",
              "    </tr>\n",
              "    <tr>\n",
              "      <th>4</th>\n",
              "      <td>nb_chars</td>\n",
              "      <td>0.021697</td>\n",
              "    </tr>\n",
              "    <tr>\n",
              "      <th>625</th>\n",
              "      <td>word_love</td>\n",
              "      <td>0.019437</td>\n",
              "    </tr>\n",
              "    <tr>\n",
              "      <th>5</th>\n",
              "      <td>nb_words</td>\n",
              "      <td>0.019144</td>\n",
              "    </tr>\n",
              "    <tr>\n",
              "      <th>8</th>\n",
              "      <td>doc2vec_vector_2</td>\n",
              "      <td>0.019022</td>\n",
              "    </tr>\n",
              "    <tr>\n",
              "      <th>9</th>\n",
              "      <td>doc2vec_vector_3</td>\n",
              "      <td>0.017843</td>\n",
              "    </tr>\n",
              "    <tr>\n",
              "      <th>10</th>\n",
              "      <td>doc2vec_vector_4</td>\n",
              "      <td>0.017556</td>\n",
              "    </tr>\n",
              "    <tr>\n",
              "      <th>1134</th>\n",
              "      <td>word_worst</td>\n",
              "      <td>0.016291</td>\n",
              "    </tr>\n",
              "    <tr>\n",
              "      <th>451</th>\n",
              "      <td>word_good</td>\n",
              "      <td>0.014382</td>\n",
              "    </tr>\n",
              "    <tr>\n",
              "      <th>115</th>\n",
              "      <td>word_best</td>\n",
              "      <td>0.014014</td>\n",
              "    </tr>\n",
              "    <tr>\n",
              "      <th>83</th>\n",
              "      <td>word_awesom</td>\n",
              "      <td>0.011796</td>\n",
              "    </tr>\n",
              "    <tr>\n",
              "      <th>453</th>\n",
              "      <td>word_great</td>\n",
              "      <td>0.009086</td>\n",
              "    </tr>\n",
              "    <tr>\n",
              "      <th>89</th>\n",
              "      <td>word_bad</td>\n",
              "      <td>0.008717</td>\n",
              "    </tr>\n",
              "    <tr>\n",
              "      <th>404</th>\n",
              "      <td>word_food</td>\n",
              "      <td>0.008010</td>\n",
              "    </tr>\n",
              "    <tr>\n",
              "      <th>786</th>\n",
              "      <td>word_place</td>\n",
              "      <td>0.007864</td>\n",
              "    </tr>\n",
              "  </tbody>\n",
              "</table>\n",
              "</div>"
            ],
            "text/plain": [
              "               feature  importance\n",
              "2                  pos    0.146962\n",
              "3             compound    0.139063\n",
              "0                  neg    0.077569\n",
              "1                  neu    0.029493\n",
              "7     doc2vec_vector_1    0.022526\n",
              "6     doc2vec_vector_0    0.022289\n",
              "4             nb_chars    0.021697\n",
              "625          word_love    0.019437\n",
              "5             nb_words    0.019144\n",
              "8     doc2vec_vector_2    0.019022\n",
              "9     doc2vec_vector_3    0.017843\n",
              "10    doc2vec_vector_4    0.017556\n",
              "1134        word_worst    0.016291\n",
              "451          word_good    0.014382\n",
              "115          word_best    0.014014\n",
              "83         word_awesom    0.011796\n",
              "453         word_great    0.009086\n",
              "89            word_bad    0.008717\n",
              "404          word_food    0.008010\n",
              "786         word_place    0.007864"
            ]
          },
          "metadata": {
            "tags": []
          },
          "execution_count": 231
        }
      ]
    },
    {
      "cell_type": "markdown",
      "metadata": {
        "id": "dAaJZKGMAOuT",
        "colab_type": "text"
      },
      "source": [
        "### Predict test results"
      ]
    },
    {
      "cell_type": "code",
      "metadata": {
        "id": "gENfdElOAmgA",
        "colab_type": "code",
        "colab": {}
      },
      "source": [
        "y_preds = rf.predict(X_test)"
      ],
      "execution_count": 232,
      "outputs": []
    },
    {
      "cell_type": "markdown",
      "metadata": {
        "id": "LxiifQNOAsbC",
        "colab_type": "text"
      },
      "source": [
        "### Evaluation"
      ]
    },
    {
      "cell_type": "code",
      "metadata": {
        "id": "ReuQu9OzA1FM",
        "colab_type": "code",
        "colab": {
          "base_uri": "https://localhost:8080/",
          "height": 85
        },
        "outputId": "40c3bc7d-0f7a-459d-e632-3b344ac88679"
      },
      "source": [
        "# Calculate Accuracy, Precision and Recall\n",
        "from sklearn.metrics import accuracy_score\n",
        "from sklearn.metrics import precision_score\n",
        "from sklearn.metrics import recall_score\n",
        "\n",
        "accuracy = accuracy_score(y_test, y_preds)\n",
        "recall = recall_score(y_test, y_preds)\n",
        "precision = precision_score(y_test, y_preds)\n",
        "\n",
        "print(\"///---Scores---///\")\n",
        "print('Accuracy Score is : {}%'.format(round(accuracy*100,2)))\n",
        "print('Precision Score is : {}'.format(round(precision,2)))\n",
        "print('Recall Score is : {}'.format(round(recall,2)))"
      ],
      "execution_count": 233,
      "outputs": [
        {
          "output_type": "stream",
          "text": [
            "///---Scores---///\n",
            "Accuracy Score is : 88.97%\n",
            "Precision Score is : 0.91\n",
            "Recall Score is : 0.87\n"
          ],
          "name": "stdout"
        }
      ]
    },
    {
      "cell_type": "markdown",
      "metadata": {
        "id": "AuEUOZOhxmVG",
        "colab_type": "text"
      },
      "source": [
        "Calculate evaluation metrics with cross_val_score"
      ]
    },
    {
      "cell_type": "code",
      "metadata": {
        "id": "3zZpFo--xxt6",
        "colab_type": "code",
        "colab": {
          "base_uri": "https://localhost:8080/",
          "height": 85
        },
        "outputId": "837cf896-9a34-4361-8787-87c8e3637ccf"
      },
      "source": [
        "# import cross_val_score from sklearn\n",
        "from sklearn.model_selection import cross_val_score\n",
        "\n",
        "# Create a new classifier\n",
        "classifier = RandomForestClassifier()\n",
        "\n",
        "# Cross-Validated Accuracy\n",
        "accuracy_cv = np.mean(cross_val_score(classifier,\n",
        "                                      X,\n",
        "                                      y,\n",
        "                                      cv=5,\n",
        "                                      scoring='accuracy'))\n",
        "\n",
        "# Cross-Validated Precision\n",
        "precision_cv = np.mean(cross_val_score(classifier,\n",
        "                                      X,\n",
        "                                      y,\n",
        "                                      cv=5,\n",
        "                                      scoring='precision'))\n",
        "\n",
        "# Cross-Validated Recall\n",
        "recall_cv = np.mean(cross_val_score(classifier,\n",
        "                                      X,\n",
        "                                      y,\n",
        "                                      cv=5,\n",
        "                                      scoring='recall'))\n",
        "\n",
        "print(\"///---Cross-Validated Scores---///\")\n",
        "print('Accuracy Score is : {}%'.format(round(accuracy_cv*100,2)))\n",
        "print('Precision Score is : {}'.format(round(precision_cv,2)))\n",
        "print('Recall Score is : {}'.format(round(recall_cv,2)))"
      ],
      "execution_count": 234,
      "outputs": [
        {
          "output_type": "stream",
          "text": [
            "///---Cross-Validated Scores---///\n",
            "Accuracy Score is : 87.41%\n",
            "Precision Score is : 0.89\n",
            "Recall Score is : 0.86\n"
          ],
          "name": "stdout"
        }
      ]
    },
    {
      "cell_type": "markdown",
      "metadata": {
        "id": "3VUAGNJWCWdu",
        "colab_type": "text"
      },
      "source": [
        "### Confusion Matrix"
      ]
    },
    {
      "cell_type": "code",
      "metadata": {
        "id": "6Eb0pwsfDc5f",
        "colab_type": "code",
        "colab": {
          "base_uri": "https://localhost:8080/",
          "height": 51
        },
        "outputId": "4cb35c01-2411-425c-df71-a8b25f2b6fd9"
      },
      "source": [
        "from sklearn.metrics import confusion_matrix\n",
        "cm = confusion_matrix(y_test, y_preds)\n",
        "cm"
      ],
      "execution_count": 235,
      "outputs": [
        {
          "output_type": "execute_result",
          "data": {
            "text/plain": [
              "array([[622,  59],\n",
              "       [ 91, 588]])"
            ]
          },
          "metadata": {
            "tags": []
          },
          "execution_count": 235
        }
      ]
    },
    {
      "cell_type": "code",
      "metadata": {
        "id": "zLx52dRuDsed",
        "colab_type": "code",
        "colab": {
          "base_uri": "https://localhost:8080/",
          "height": 408
        },
        "outputId": "402c8821-ab1b-4f5e-dab6-1741f14bca6d"
      },
      "source": [
        "# Plotting confusion matrix\n",
        "import matplotlib.pyplot as plt\n",
        "%matplotlib inline\n",
        "import seaborn as sns\n",
        "\n",
        "plt.figure(figsize=(6,6))\n",
        "sns.heatmap(cm, annot=True, cmap=\"YlGnBu\", xticklabels=['Neagtive', 'Positive'], yticklabels=['Negative', 'Positive'])\n",
        "plt.xlabel('Predicted Values')\n",
        "plt.ylabel('Actual Values')"
      ],
      "execution_count": 236,
      "outputs": [
        {
          "output_type": "execute_result",
          "data": {
            "text/plain": [
              "Text(33.0, 0.5, 'Actual Values')"
            ]
          },
          "metadata": {
            "tags": []
          },
          "execution_count": 236
        },
        {
          "output_type": "display_data",
          "data": {
            "image/png": "[encoded data removed]",
            "text/plain": [
              "<Figure size 432x432 with 2 Axes>"
            ]
          },
          "metadata": {
            "tags": [],
            "needs_background": "light"
          }
        }
      ]
    },
    {
      "cell_type": "markdown",
      "metadata": {
        "id": "-TFr4VjuFrGW",
        "colab_type": "text"
      },
      "source": [
        "### Hyperparameter Tuning using RandomizedSearchCV"
      ]
    },
    {
      "cell_type": "code",
      "metadata": {
        "id": "VqjmFb2bIYnn",
        "colab_type": "code",
        "colab": {
          "base_uri": "https://localhost:8080/",
          "height": 187
        },
        "outputId": "eb3cd045-5996-45ce-937f-67849510fbe3"
      },
      "source": [
        "# import RandomizedSearchCV from sklearn\n",
        "from sklearn.model_selection import RandomizedSearchCV\n",
        "\n",
        "# Create a hyperparameter grid for our classifier\n",
        "param_grid = {'alpha':np.arange(0.1,1.1,0.1)}\n",
        "\n",
        "# Setup hyperparameter search for RandomForestClassifier classifier\n",
        "rs = RandomizedSearchCV(RandomForestClassifier(),\n",
        "                        param_distributions=param_grid,\n",
        "                        cv=5,\n",
        "                        n_iter=10,\n",
        "                        verbose=True,\n",
        "                        random_state=0)\n",
        "\n",
        "# Fit the hyperparameter search\n",
        "rs.fit(X_train,y_train)"
      ],
      "execution_count": null,
      "outputs": [
        {
          "output_type": "stream",
          "text": [
            "Fitting 5 folds for each of 10 candidates, totalling 50 fits\n"
          ],
          "name": "stdout"
        },
        {
          "output_type": "stream",
          "text": [
            "[Parallel(n_jobs=1)]: Using backend SequentialBackend with 1 concurrent workers.\n",
            "[Parallel(n_jobs=1)]: Done  50 out of  50 | elapsed:    6.2s finished\n"
          ],
          "name": "stderr"
        },
        {
          "output_type": "execute_result",
          "data": {
            "text/plain": [
              "RandomizedSearchCV(cv=5, error_score=nan,\n",
              "                   estimator=MultinomialNB(alpha=1.0, class_prior=None,\n",
              "                                           fit_prior=True),\n",
              "                   iid='deprecated', n_iter=10, n_jobs=None,\n",
              "                   param_distributions={'alpha': array([0.1, 0.2, 0.3, 0.4, 0.5, 0.6, 0.7, 0.8, 0.9, 1. ])},\n",
              "                   pre_dispatch='2*n_jobs', random_state=0, refit=True,\n",
              "                   return_train_score=False, scoring=None, verbose=True)"
            ]
          },
          "metadata": {
            "tags": []
          },
          "execution_count": 137
        }
      ]
    },
    {
      "cell_type": "code",
      "metadata": {
        "id": "6-2yY9q4J46m",
        "colab_type": "code",
        "colab": {
          "base_uri": "https://localhost:8080/",
          "height": 34
        },
        "outputId": "3b7d28d4-502a-430a-f84d-178f27c7e17f"
      },
      "source": [
        "rs.best_params_"
      ],
      "execution_count": null,
      "outputs": [
        {
          "output_type": "execute_result",
          "data": {
            "text/plain": [
              "{'alpha': 0.8}"
            ]
          },
          "metadata": {
            "tags": []
          },
          "execution_count": 138
        }
      ]
    },
    {
      "cell_type": "code",
      "metadata": {
        "id": "bLGKTTzHAJUw",
        "colab_type": "code",
        "colab": {
          "base_uri": "https://localhost:8080/",
          "height": 170
        },
        "outputId": "22d5dd11-ba7e-4d01-8894-29f8b95d2a80"
      },
      "source": [
        "rs_y_preds = rs.predict(X_test)\n",
        "print(classification_report(y_test, rs_y_preds))"
      ],
      "execution_count": null,
      "outputs": [
        {
          "output_type": "stream",
          "text": [
            "              precision    recall  f1-score   support\n",
            "\n",
            "           0       0.90      0.85      0.87       681\n",
            "           1       0.86      0.90      0.88       679\n",
            "\n",
            "    accuracy                           0.88      1360\n",
            "   macro avg       0.88      0.88      0.88      1360\n",
            "weighted avg       0.88      0.88      0.88      1360\n",
            "\n"
          ],
          "name": "stdout"
        }
      ]
    },
    {
      "cell_type": "code",
      "metadata": {
        "id": "jY_GRnujKAg1",
        "colab_type": "code",
        "colab": {
          "base_uri": "https://localhost:8080/",
          "height": 34
        },
        "outputId": "9b91bafc-55f8-4983-af58-f77a04401977"
      },
      "source": [
        "rs.score(X_test, y_test)"
      ],
      "execution_count": null,
      "outputs": [
        {
          "output_type": "execute_result",
          "data": {
            "text/plain": [
              "0.8757352941176471"
            ]
          },
          "metadata": {
            "tags": []
          },
          "execution_count": 140
        }
      ]
    },
    {
      "cell_type": "code",
      "metadata": {
        "id": "dQbCj-6RKGxC",
        "colab_type": "code",
        "colab": {
          "base_uri": "https://localhost:8080/",
          "height": 153
        },
        "outputId": "5af24c2a-f205-45aa-ecef-d5bca63c53c1"
      },
      "source": [
        "# Re-train the classifier with best params derived from Hyperparameter Tuning.\n",
        "classifier = RandomForestClassifier(random_state=42)\n",
        "classifier.fit(X_train, y_train)"
      ],
      "execution_count": 257,
      "outputs": [
        {
          "output_type": "execute_result",
          "data": {
            "text/plain": [
              "RandomForestClassifier(bootstrap=True, ccp_alpha=0.0, class_weight=None,\n",
              "                       criterion='gini', max_depth=None, max_features='auto',\n",
              "                       max_leaf_nodes=None, max_samples=None,\n",
              "                       min_impurity_decrease=0.0, min_impurity_split=None,\n",
              "                       min_samples_leaf=1, min_samples_split=2,\n",
              "                       min_weight_fraction_leaf=0.0, n_estimators=100,\n",
              "                       n_jobs=None, oob_score=False, random_state=42, verbose=0,\n",
              "                       warm_start=False)"
            ]
          },
          "metadata": {
            "tags": []
          },
          "execution_count": 257
        }
      ]
    },
    {
      "cell_type": "code",
      "metadata": {
        "id": "0522YNSWBiKI",
        "colab_type": "code",
        "colab": {}
      },
      "source": [
        "# save the trained classifier to use it predictions anywhere else\n",
        "pickle.dump(classifier, open('/content/drive/My Drive/Restaurant Reviews/restaurant-sentiment-rf-model.pkl', 'wb'))"
      ],
      "execution_count": 262,
      "outputs": []
    },
    {
      "cell_type": "markdown",
      "metadata": {
        "id": "blKMsmLvPXhr",
        "colab_type": "text"
      },
      "source": [
        "## Making predictions for real-world reviews\n",
        "\n",
        "Create a function which will take a sample review as input and give prediction as output using our trained classifier"
      ]
    },
    {
      "cell_type": "code",
      "metadata": {
        "id": "JfyzQMjmQbfp",
        "colab_type": "code",
        "colab": {
          "base_uri": "https://localhost:8080/",
          "height": 34
        },
        "outputId": "23cf3b2a-7d73-441b-9ba7-f9a274a3afc0"
      },
      "source": [
        "def predict_sentiment(sample_review):\n",
        "\n",
        "  sample_review_cleand = re.sub(pattern='[^a-zA-Z]', repl=' ', string=sample_review)\n",
        "  sample_review_cleand = sample_review_cleand.lower()\n",
        "  sample_review_words = sample_review_cleand.split()\n",
        "  sample_review_words = [word for word in sample_review_words if word not in set(stopwords.words('english'))]\n",
        "  ps = PorterStemmer()\n",
        "  sample_review_words = [ps.stem(word) for word in sample_review_words]\n",
        "  sample_review_cleand = ' '.join(sample_review_words)\n",
        "  sample_df = pd.DataFrame()\n",
        "  sample_df['Review'] = [sample_review]\n",
        "  sample_df['Review_cleaned'] = [sample_review_cleand]\n",
        "  sample_df['sentiments_tmp'] = sample_df[\"Review\"].apply(lambda x: sia.polarity_scores(x))\n",
        "  sample_df = pd.concat([sample_df.drop(['sentiments_tmp'], axis=1), sample_df['sentiments_tmp'].apply(pd.Series)], axis=1)\n",
        "  sample_df[\"nb_chars\"] = sample_df['Review'].apply(lambda x : len(x))\n",
        "  sample_df[\"nb_words\"] = sample_df[\"Review\"].apply(lambda x : len(x.split(\" \")))\n",
        "  sample_doc2vec_df = sample_df[\"Review_cleaned\"].apply(lambda x: model.infer_vector(x.split(\" \"))).apply(pd.Series)\n",
        "  sample_doc2vec_df.columns = [\"doc2vec_vector_\" + str(x) for x in sample_doc2vec_df.columns]\n",
        "  sample_df = pd.concat([sample_df, sample_doc2vec_df], axis=1)\n",
        "  sample_tfidf_result = tfidf.transform(sample_df['Review_cleaned']).toarray()\n",
        "  sample_tfidf_df = pd.DataFrame(sample_tfidf_result, columns=tfidf.get_feature_names())\n",
        "  sample_tfidf_df.columns = [\"word_\" + str(x) for x in sample_tfidf_df.columns]\n",
        "  sample_tfidf_df.index = sample_df.index\n",
        "  sample_df = pd.concat([sample_df, sample_tfidf_df], axis=1)\n",
        "  sample_features = [c for c in sample_df.columns if not c in ['Review', 'Review_cleaned']]\n",
        "\n",
        "  return classifier.predict(sample_df[sample_features])"
      ],
      "execution_count": 280,
      "outputs": [
        {
          "output_type": "stream",
          "text": [
            "[0]\n"
          ],
          "name": "stdout"
        }
      ]
    },
    {
      "cell_type": "code",
      "metadata": {
        "id": "YAQQQsbpSWJt",
        "colab_type": "code",
        "colab": {
          "base_uri": "https://localhost:8080/",
          "height": 51
        },
        "outputId": "fe723638-b1e1-446d-9973-87db694eb038"
      },
      "source": [
        "# Predicting values\n",
        "sample_review = 'The food was good'\n",
        "print(type(predict_sentiment(sample_review)[0]))\n",
        "\n",
        "if predict_sentiment(sample_review) == 1:\n",
        "  print('This is a POSITIVE REVIEW')\n",
        "else:\n",
        "  print('This is NEGATIVE REVIEW')\n"
      ],
      "execution_count": 292,
      "outputs": [
        {
          "output_type": "stream",
          "text": [
            "<class 'numpy.int64'>\n",
            "This is a POSITIVE REVIEW\n"
          ],
          "name": "stdout"
        }
      ]
    },
    {
      "cell_type": "code",
      "metadata": {
        "id": "dbOtG9q2ShFy",
        "colab_type": "code",
        "colab": {
          "base_uri": "https://localhost:8080/",
          "height": 34
        },
        "outputId": "6d166477-568e-42f0-da99-bf471ca2b3d2"
      },
      "source": [
        "# Predicting values\n",
        "sample_review = 'Food was pretty bad and the service was very slow.'\n",
        "\n",
        "if predict_sentiment(sample_review) == 1:\n",
        "  print('This is a POSITIVE REVIEW')\n",
        "else:\n",
        "  print('This is NEGATIVE REVIEW')"
      ],
      "execution_count": 270,
      "outputs": [
        {
          "output_type": "stream",
          "text": [
            "This is NEGATIVE REVIEW\n"
          ],
          "name": "stdout"
        }
      ]
    },
    {
      "cell_type": "code",
      "metadata": {
        "id": "f-MafEoDTk6l",
        "colab_type": "code",
        "colab": {
          "base_uri": "https://localhost:8080/",
          "height": 34
        },
        "outputId": "d68a548d-d9f1-431e-dc85-1ea2e9ad7837"
      },
      "source": [
        "# Predicting values\n",
        "sample_review = 'The food was absolutely wonderful, from preparation to presentation, very pleasing.'\n",
        "\n",
        "if predict_sentiment(sample_review) == 1:\n",
        "  print('This is a POSITIVE REVIEW')\n",
        "else:\n",
        "  print('This is NEGATIVE REVIEW')"
      ],
      "execution_count": 271,
      "outputs": [
        {
          "output_type": "stream",
          "text": [
            "This is NEGATIVE REVIEW\n"
          ],
          "name": "stdout"
        }
      ]
    },
    {
      "cell_type": "code",
      "metadata": {
        "id": "QbWN2nGuKyLg",
        "colab_type": "code",
        "colab": {}
      },
      "source": [
        ""
      ],
      "execution_count": null,
      "outputs": []
    }
  ]
}